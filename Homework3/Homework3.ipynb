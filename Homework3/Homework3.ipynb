{
 "cells": [
  {
   "cell_type": "markdown",
   "metadata": {},
   "source": [
    "# ADA 2018 - Homework 3\n",
    "\n",
    "\n",
    "\n",
    "## Undestanding the StackOverflow community\n",
    "\n",
    "\n",
    "Deadline: Nov 7th 2018, 23:59:59\n",
    "\n",
    "Submission link: Check channel homework-3-public"
   ]
  },
  {
   "cell_type": "markdown",
   "metadata": {},
   "source": [
    "StackOverflow is the most popular programming-related Q&A website. It serves as a platform for users to ask and answer questions and to vote questions and answers up or down. Users of StackOverflow can earn reputation points and \"badges\"; for example, a person is awarded 10 reputation points for receiving an \"up\" vote on an answer given to a question, and 5 points for the \"up\" vote on a question asked. Also, users receive badges for their valued contributions, which represents a kind of gamification of the traditional Q&A site. \n",
    "\n",
    "[Learn more about StackOverflow on Wikipedia](https://en.wikipedia.org/wiki/Stack_Overflow)\n",
    "\n",
    "----\n",
    "\n",
    "Dataset link:\n",
    "\n",
    "https://drive.google.com/open?id=1POlGjqzw9v_pZ_bUnXGihOgk45kbvNjB\n",
    "\n",
    "http://iccluster053.iccluster.epfl.ch/Posts.json.zip (mirror 1)\n",
    "\n",
    "https://iloveadatas.com/datasets/Posts.json.zip (mirror 2)\n",
    "\n",
    "Dataset description:\n",
    "\n",
    "* **Id**: Id of the post\n",
    "* **CreationDate**: Creation date of the post (String format)\n",
    "* **PostTypeId**: Type of post (Question = 1, Answer = 2)\n",
    "* **ParentId**: The id of the question. Only present if PostTypeId = 2\n",
    "* **Score**: Points assigned by the users\n",
    "* **Tags**: Tags of the question. Only present if PostTypeId = 1\n",
    "* **Title**: Only present if PostTypeId = 1\n",
    "* **ViewCount**: Only present if PostTypeId = 1\n",
    "\n",
    "The dataset format is JSON. Here are examples of a question and an answer:\n",
    "\n",
    "Question:\n",
    "```json\n",
    "{\n",
    "    \"Id\": 10130734,\n",
    "    \"CreationDate\": \"2012-04-12T19:51:25.793+02:00\",\n",
    "    \"PostTypeId\": 1,\n",
    "    \"Score\": 4,\n",
    "    \"Tags\": \"<python><pandas>\",\n",
    "    \"Title\": \"Best way to insert a new value\",\n",
    "    \"ViewCount\": 3803\n",
    "}\n",
    "```\n",
    "\n",
    "Answer:\n",
    "```json\n",
    "{  \n",
    "   \"CreationDate\":\"2010-10-26T03:19:05.063+02:00\",\n",
    "   \"Id\":4020440,\n",
    "   \"ParentId\":4020214,\n",
    "   \"PostTypeId\":2,\n",
    "   \"Score\":1\n",
    "}\n",
    "```\n",
    "\n",
    "----\n",
    "Useful resources:\n",
    "\n",
    "**Spark SQL, DataFrames and Datasets Guide**\n",
    "\n",
    "https://spark.apache.org/docs/latest/sql-programming-guide.html\n",
    "\n",
    "**Database schema documentation for the public data dump**\n",
    "\n",
    "https://meta.stackexchange.com/questions/2677/database-schema-documentation-for-the-public-data-dump-and-sede\n",
    "\n",
    "----\n",
    "\n",
    "**Note:** Use Spark where possible. Some computations can take more than 10 minutes on a common notebook. Consider to save partial results on disk."
   ]
  },
  {
   "cell_type": "code",
   "execution_count": 1,
   "metadata": {},
   "outputs": [],
   "source": [
    "# Add your imports here\n",
    "import pandas as pd\n",
    "import numpy as np\n",
    "import scipy as sp\n",
    "from pyspark.sql import *\n",
    "%matplotlib inline"
   ]
  },
  {
   "cell_type": "code",
   "execution_count": 2,
   "metadata": {
    "scrolled": true
   },
   "outputs": [
    {
     "name": "stdout",
     "output_type": "stream",
     "text": [
      "/Library/Java/JavaVirtualMachines/jdk1.8.0_191.jdk/Contents/Home\n",
      "/opt/spark\n",
      "/opt/spark/python:/opt/spark/python/lib/py4j-0.10.1-src.zip\n"
     ]
    }
   ],
   "source": [
    "import os\n",
    "print(os.environ[\"JAVA_HOME\"])\n",
    "print(os.environ[\"SPARK_HOME\"])\n",
    "print(os.environ[\"PYTHONPATH\"])\n",
    "\n",
    "#example for data directory at notebook's directory\n",
    "DATA_DIR = 'data/'"
   ]
  },
  {
   "cell_type": "code",
   "execution_count": 3,
   "metadata": {},
   "outputs": [],
   "source": [
    "spark = SparkSession.builder.getOrCreate()"
   ]
  },
  {
   "cell_type": "markdown",
   "metadata": {},
   "source": [
    "## PRELUDE \n",
    "Dear reader, please the enjoy the journey accross the large range of functionalities that pyspark offers to data sceintist. \n",
    "Welcome to our journey throught the questions and answers posted on the stackoverflow webpage. \n",
    "Stack Overflow is a privately held website created in 2008 by Jeff Atwood and Joel Spolsky. It features questions and answers on a wide range of topics in computer programming. It was created to be a more open alternative to earlier question and answer sites such as Experts-Exchange. The name for the website was chosen by voting in April 2008 by readers of Coding Horror, Atwood's popular programming blog. The website serves as a platform for users to ask and answer questions, and, through membership and active participation, to vote questions and answers up or down and edit questions and answers in a fashion similar to a wiki or Digg. \n",
    "This work was divided in 5 parts. The first part really focused on the data types and on the basic functionalities of pyspark. Task C and B were especiallly interesting on the statistical point of view since we have the oppornity to compute Pearson coefficent and so on. Task E, "
   ]
  },
  {
   "cell_type": "markdown",
   "metadata": {},
   "source": [
    "### Task A: Convert the dataset to a more convenient format\n",
    "As a warm-up task (and to avoid to warm up your laptop too much), load the dataset into a Spark dataframe, show the content, and save it in the _Parquet_ format. Use this step to convert the fields to a more convenient form.\n",
    "\n",
    "Answer the following questions:\n",
    "\n",
    "1. How many questions have been asked on StackOverflow?\n",
    "2. How many answers have been given?\n",
    "3. What is the percentage of questions with a score of 0?\n",
    "\n",
    "**Hint:** The next tasks involve a time difference. Consider storing time in numeric format."
   ]
  },
  {
   "cell_type": "code",
   "execution_count": 4,
   "metadata": {},
   "outputs": [
    {
     "name": "stdout",
     "output_type": "stream",
     "text": [
      "+--------------------+-------+--------+----------+-----+--------------------+--------------------+---------+\n",
      "|        CreationDate|     Id|ParentId|PostTypeId|Score|                Tags|               Title|ViewCount|\n",
      "+--------------------+-------+--------+----------+-----+--------------------+--------------------+---------+\n",
      "|2010-10-26T03:17:...|4020437|    null|         1|    0|<asp.net-mvc><jqu...|display jquery di...|      510|\n",
      "|2010-10-26T03:18:...|4020438|    null|         1|    0|<javascript><html...|Why can only my m...|       62|\n",
      "|2010-10-26T03:19:...|4020440| 4020214|         2|    1|                null|                null|     null|\n",
      "|2010-10-26T03:19:...|4020441| 3938154|         2|    0|                null|                null|     null|\n",
      "|2010-10-26T03:20:...|4020443| 4020419|         2|  324|                null|                null|     null|\n",
      "|2010-10-26T03:20:...|4020444| 4020433|         2|    0|                null|                null|     null|\n",
      "|2010-10-26T03:21:...|4020445|    null|         1|    0|<c++><visual-stud...|Communicating ove...|     1170|\n",
      "|2010-10-26T03:21:...|4020447| 4020433|         2|    1|                null|                null|     null|\n",
      "|2010-10-26T03:21:...|4020448| 4020437|         2|    1|                null|                null|     null|\n",
      "|2010-10-26T03:21:...|4020449|    null|         1|    0|<c#><textbox><fil...|C# Text Box File ...|      845|\n",
      "|2010-10-26T03:21:...|4020450|    null|         1|    0|<php><wordpress><...|PHP image grab wh...|      761|\n",
      "|2010-10-26T03:21:...|4020451| 4020382|         2|    2|                null|                null|     null|\n",
      "|2010-10-26T03:22:...|4020452| 4020433|         2|    7|                null|                null|     null|\n",
      "|2010-10-26T03:22:...|4020453|    null|         1|    4|<objective-c><del...|Objective C - Str...|     1091|\n",
      "|2010-10-26T03:22:...|4020454| 4020433|         2|    2|                null|                null|     null|\n",
      "|2010-10-26T03:22:...|4020455| 1175258|         2|    5|                null|                null|     null|\n",
      "|2010-10-26T03:23:...|4020456|    null|         1|    2|       <c><pointers>|Changing pointer ...|     4143|\n",
      "|2010-10-26T03:23:...|4020457|    null|         1|    1|<flash><actionscr...|AS2 Center loadMo...|     1449|\n",
      "|2010-10-26T03:23:...|4020458| 4010166|         2|    1|                null|                null|     null|\n",
      "|2010-10-26T03:23:...|4020460|    null|         1|    3|<c#><asp.net><ima...|HTML email \"opens...|      544|\n",
      "+--------------------+-------+--------+----------+-----+--------------------+--------------------+---------+\n",
      "only showing top 20 rows\n",
      "\n"
     ]
    }
   ],
   "source": [
    "# spark is an existing SparkSession\n",
    "posts_df = spark.read.json(DATA_DIR + \"posts.json\")\n",
    "\n",
    "# Displays the content of the DataFrame to stdout\n",
    "posts_df.show()"
   ]
  },
  {
   "cell_type": "markdown",
   "metadata": {},
   "source": [
    "#### Show the name and type of the columns in the DataFrame"
   ]
  },
  {
   "cell_type": "code",
   "execution_count": 5,
   "metadata": {},
   "outputs": [
    {
     "name": "stdout",
     "output_type": "stream",
     "text": [
      "root\n",
      " |-- CreationDate: string (nullable = true)\n",
      " |-- Id: long (nullable = true)\n",
      " |-- ParentId: long (nullable = true)\n",
      " |-- PostTypeId: long (nullable = true)\n",
      " |-- Score: long (nullable = true)\n",
      " |-- Tags: string (nullable = true)\n",
      " |-- Title: string (nullable = true)\n",
      " |-- ViewCount: long (nullable = true)\n",
      "\n"
     ]
    },
    {
     "data": {
      "text/plain": [
       "[('CreationDate', 'string'),\n",
       " ('Id', 'bigint'),\n",
       " ('ParentId', 'bigint'),\n",
       " ('PostTypeId', 'bigint'),\n",
       " ('Score', 'bigint'),\n",
       " ('Tags', 'string'),\n",
       " ('Title', 'string'),\n",
       " ('ViewCount', 'bigint')]"
      ]
     },
     "execution_count": 5,
     "metadata": {},
     "output_type": "execute_result"
    }
   ],
   "source": [
    "posts_df.printSchema()\n",
    "posts_df.dtypes"
   ]
  },
  {
   "cell_type": "code",
   "execution_count": 6,
   "metadata": {},
   "outputs": [
    {
     "name": "stdout",
     "output_type": "stream",
     "text": [
      "+-------+--------------------+--------------------+--------------------+------------------+------------------+--------------------+--------------------+------------------+\n",
      "|summary|        CreationDate|                  Id|            ParentId|        PostTypeId|             Score|                Tags|               Title|         ViewCount|\n",
      "+-------+--------------------+--------------------+--------------------+------------------+------------------+--------------------+--------------------+------------------+\n",
      "|  count|            40839832|            40839832|            25192772|          40839832|          40839832|            15647060|            15647060|          15647060|\n",
      "|   mean|                null| 2.581864625658712E7| 2.337855096310124E7| 1.616867669778857| 2.405349267842238|                null|                null| 2053.396033376238|\n",
      "| stddev|                null|1.5125600166357936E7|1.5155757874314353E7|0.4861501347809169|20.823425070131528|                null|                null|15392.535641796516|\n",
      "|    min|2008-07-31T22:08:...|                   6|                   4|                 1|              -108|                <.a>|    Dynamic Datag...|                 1|\n",
      "|    max|2018-09-02T05:46:...|            52134316|            52134299|                 2|             28708|<zynq><bsp><xilin...|~~ Operator In Po...|           6063543|\n",
      "+-------+--------------------+--------------------+--------------------+------------------+------------------+--------------------+--------------------+------------------+\n",
      "\n"
     ]
    }
   ],
   "source": [
    "posts_df.describe().show()"
   ]
  },
  {
   "cell_type": "markdown",
   "metadata": {},
   "source": [
    "Dataset can be constructed from JVM objects and then manipulated using functional transformations (map, flatMap, filter, etc.). One of most common transformation operations in Spark, and the MapReduce model in general, is map, which applies a function to the elements of an RDD and returns an RDD with the results. Here we will use the map functions to convert the files to a more convenient form. "
   ]
  },
  {
   "cell_type": "code",
   "execution_count": 7,
   "metadata": {},
   "outputs": [
    {
     "name": "stdout",
     "output_type": "stream",
     "text": [
      "root\n",
      " |-- CreationDate: string (nullable = true)\n",
      " |-- Id: long (nullable = true)\n",
      " |-- ParentId: long (nullable = true)\n",
      " |-- PostTypeId: long (nullable = true)\n",
      " |-- Score: long (nullable = true)\n",
      " |-- Tags: string (nullable = true)\n",
      " |-- Title: string (nullable = true)\n",
      " |-- ViewCount: long (nullable = true)\n",
      "\n"
     ]
    }
   ],
   "source": [
    "## Show the data formats that are stored in the spark dataframe\n",
    "posts_df.printSchema()"
   ]
  },
  {
   "cell_type": "code",
   "execution_count": 8,
   "metadata": {},
   "outputs": [
    {
     "name": "stdout",
     "output_type": "stream",
     "text": [
      "There are  40839832  rows in the pyspark dataframe\n"
     ]
    }
   ],
   "source": [
    "print(\"There are \", posts_df.count(), \" rows in the pyspark dataframe\")"
   ]
  },
  {
   "cell_type": "markdown",
   "metadata": {
    "scrolled": true
   },
   "source": [
    "### Convert the field types in to more coherent / optimized types : "
   ]
  },
  {
   "cell_type": "code",
   "execution_count": 9,
   "metadata": {},
   "outputs": [
    {
     "name": "stdout",
     "output_type": "stream",
     "text": [
      "root\n",
      " |-- CreationDate: string (nullable = true)\n",
      " |-- Id: long (nullable = true)\n",
      " |-- ParentId: long (nullable = true)\n",
      " |-- PostTypeId: integer (nullable = true)\n",
      " |-- Score: integer (nullable = true)\n",
      " |-- Tags: string (nullable = true)\n",
      " |-- Title: string (nullable = true)\n",
      " |-- ViewCount: integer (nullable = true)\n",
      " |-- timestamp: timestamp (nullable = true)\n",
      "\n"
     ]
    }
   ],
   "source": [
    "### Convert the string time to Timestamp type \n",
    "from pyspark.sql.functions import unix_timestamp, from_unixtime, from_utc_timestamp\n",
    "\n",
    "#The targetted data format is : 2010-10-26T03:17:55.603+02:00\n",
    "posts_df = posts_df.withColumn('timestamp', from_utc_timestamp(posts_df.CreationDate, \"PST\"))\n",
    "posts_df = posts_df.withColumn(\"PostTypeId\", posts_df[\"PostTypeId\"].cast(\"int\"))\n",
    "posts_df = posts_df.withColumn(\"Score\", posts_df[\"Score\"].cast(\"int\"))\n",
    "posts_df = posts_df.withColumn(\"ViewCount\", posts_df[\"ViewCount\"].cast(\"int\"))\n",
    "posts_df.printSchema()"
   ]
  },
  {
   "cell_type": "markdown",
   "metadata": {},
   "source": [
    "#### COMMENT\n",
    "\n",
    "Our group decide to only change the type of the date. The **CreationDate** type needed to be casted to a timestamp value in order to ease the computations made afterwards in the code. However, we decide to not modify the other data since we did not had the impression that it would make our life easier afterwards and that we would only increase the since of the data vector. Indeed, **Id** is Id of the post and could without any problem stay long int typed. Long int are coded on 8 bytes which is 64 bits. This means that we can code $2^{64}$ numbers. Here it could make sens to keep the data encoded as a long int since each post needs its own unique Id. However, for the **Score**, **PostTypeId** and **ViewCount**, we decided to convert this data to stansdart intergers since it makes no sense to waste space in memory for these variable which will never overflow. The **Title** and **Tags** were kept as strings. "
   ]
  },
  {
   "cell_type": "code",
   "execution_count": 10,
   "metadata": {},
   "outputs": [],
   "source": [
    "#save the data in the indicated format. DataFrames can be saved as Parquet files, maintaining the schema information.\n",
    "posts_df.write.parquet(DATA_DIR + \"posts.parquet\", mode = \"overwrite\")"
   ]
  },
  {
   "cell_type": "markdown",
   "metadata": {},
   "source": [
    "### 1 - How many questions have been asked on StackOverflow? \n",
    "**ANSWER**: We need to consider only the posts of postType = 1 and then to count them. "
   ]
  },
  {
   "cell_type": "code",
   "execution_count": 11,
   "metadata": {},
   "outputs": [
    {
     "name": "stdout",
     "output_type": "stream",
     "text": [
      "Q1: There have been  15647060 question asked.\n"
     ]
    }
   ],
   "source": [
    "posts_df_questions = posts_df.filter(posts_df['PostTypeId']  == 1)\n",
    "print('Q1: There have been ', posts_df_questions.count(), \"question asked.\")"
   ]
  },
  {
   "cell_type": "markdown",
   "metadata": {},
   "source": [
    "### 2 - How many answers have been given? \n",
    "**ANSWER**: We need to consider only the fields with postType = 2 and then to count them. "
   ]
  },
  {
   "cell_type": "code",
   "execution_count": 12,
   "metadata": {},
   "outputs": [
    {
     "name": "stdout",
     "output_type": "stream",
     "text": [
      "Q2: There have been  25192772  given answers.\n"
     ]
    }
   ],
   "source": [
    "posts_df_answers = posts_df.filter(posts_df['PostTypeId']  == 2)\n",
    "print('Q2: There have been ', posts_df_answers.count(), \" given answers.\")"
   ]
  },
  {
   "cell_type": "markdown",
   "metadata": {},
   "source": [
    "### 3 - What is the percentage of questions with a score of 0? \n",
    "**ANSWER**: We need to add an additional filter criteria which is the fact to \"answer by 0\" then we can divide the subgroup by the value we got in questions 1."
   ]
  },
  {
   "cell_type": "code",
   "execution_count": 13,
   "metadata": {},
   "outputs": [
    {
     "name": "stdout",
     "output_type": "stream",
     "text": [
      "Q3: The percentage of of questions with a score of 0 is  46.54365740273253  %\n"
     ]
    }
   ],
   "source": [
    "posts_df_question_score_0 = posts_df_questions.filter(posts_df['score'] == 0)\n",
    "print(\"Q3: The percentage of of questions with a score of 0 is \", 100*posts_df_question_score_0.count() / posts_df_questions.count(), ' %')"
   ]
  },
  {
   "cell_type": "markdown",
   "metadata": {},
   "source": [
    "**Hint:** Load the dataset from the Parquet file for the next tasks."
   ]
  },
  {
   "cell_type": "markdown",
   "metadata": {},
   "source": [
    "### Load the dataset from .parquet format for the next questions"
   ]
  },
  {
   "cell_type": "code",
   "execution_count": 14,
   "metadata": {},
   "outputs": [
    {
     "data": {
      "text/plain": [
       "pyspark.sql.dataframe.DataFrame"
      ]
     },
     "execution_count": 14,
     "metadata": {},
     "output_type": "execute_result"
    }
   ],
   "source": [
    "posts_parquet = spark.read.parquet( DATA_DIR + \"posts.parquet\")\n",
    "test_df = posts_parquet\n",
    "type(test_df)"
   ]
  },
  {
   "cell_type": "markdown",
   "metadata": {},
   "source": [
    "### Task B: What are the 10 most popular tags?\n",
    "\n",
    "What are the most popular tags in StackOverflow? Use Spark to extract the information you need, and answer the following questions with Pandas and Matplotlib (or Seaborn):\n",
    "\n",
    "1. What is the proportion of tags that appear in fewer than 100 questions?\n",
    "2. Plot the distribution of the tag counts using an appropriate representation.\n",
    "3. Plot a bar chart with the number of questions for the 10 most popular tags.\n",
    "\n",
    "For each task describe your findings briefly."
   ]
  },
  {
   "cell_type": "code",
   "execution_count": 15,
   "metadata": {},
   "outputs": [],
   "source": [
    "##PART A : Clean & Count the tags \n",
    "data_with_tags = test_df.filter(test_df.PostTypeId==1) # make the computation only when necessary (e.g. when it is a question)\n",
    "data_with_tags_rdd = data_with_tags.rdd #convert to RDD in order to apply map functions\n",
    "\n",
    "#flatMap and reduceByKey\n",
    "import re \n",
    "genres_rdd = data_with_tags_rdd.flatMap(lambda r: [re.sub('[><]', '', g) for g in r[5].split('><')])\n",
    "genre_frequency = genres_rdd.map(lambda r: (r,1)).reduceByKey(lambda a,b: a+b) #count the reccurence of a given tag"
   ]
  },
  {
   "cell_type": "markdown",
   "metadata": {},
   "source": [
    "### What is the proportion of tags that appear in fewer than 100 questions?\n",
    "To answer this question we needed to make a dictionary of the tags and to counts these tags as soons as they appeared to the vector. "
   ]
  },
  {
   "cell_type": "code",
   "execution_count": 16,
   "metadata": {},
   "outputs": [
    {
     "name": "stdout",
     "output_type": "stream",
     "text": [
      "There are  36025 tags that appear in fewer than 100 questions\n"
     ]
    }
   ],
   "source": [
    "less_than_100  = genre_frequency.filter(lambda k : k[1] < 100)\n",
    "print('There are ', less_than_100.count(), 'tags that appear in fewer than 100 questions')"
   ]
  },
  {
   "cell_type": "markdown",
   "metadata": {},
   "source": [
    "### Plot the distribution of the tag counts using an appropriate representation.\n",
    "In order to find the right representation our group decided to take the boxplot as a reference to assess the distribution of the data. Here we can see that we are in a similar case than in the previous homework. This means that we have many outliers on the left of the distribution. "
   ]
  },
  {
   "cell_type": "code",
   "execution_count": 17,
   "metadata": {},
   "outputs": [
    {
     "data": {
      "image/png": "[encoded data removed]",
      "text/plain": [
       "<Figure size 432x288 with 1 Axes>"
      ]
     },
     "metadata": {
      "needs_background": "light"
     },
     "output_type": "display_data"
    }
   ],
   "source": [
    "import matplotlib.pyplot as plt\n",
    "\n",
    "#sort in decreasing order \n",
    "Sorted = genre_frequency.sortBy(lambda a: a[1],  False)\n",
    "\n",
    "tag_count = [x[1] for x in genre_frequency.collect()]\n",
    "\n",
    "plt.boxplot(tag_count)\n",
    "plt.ylabel('Tag count [-]')\n",
    "plt.title('Boxplot showing the distribution of the tag count')\n",
    "plt.show()"
   ]
  },
  {
   "cell_type": "code",
   "execution_count": 18,
   "metadata": {},
   "outputs": [
    {
     "data": {
      "text/html": [
       "<div>\n",
       "<style scoped>\n",
       "    .dataframe tbody tr th:only-of-type {\n",
       "        vertical-align: middle;\n",
       "    }\n",
       "\n",
       "    .dataframe tbody tr th {\n",
       "        vertical-align: top;\n",
       "    }\n",
       "\n",
       "    .dataframe thead th {\n",
       "        text-align: right;\n",
       "    }\n",
       "</style>\n",
       "<table border=\"1\" class=\"dataframe\">\n",
       "  <thead>\n",
       "    <tr style=\"text-align: right;\">\n",
       "      <th></th>\n",
       "      <th>data</th>\n",
       "    </tr>\n",
       "  </thead>\n",
       "  <tbody>\n",
       "    <tr>\n",
       "      <th>count</th>\n",
       "      <td>5.299400e+04</td>\n",
       "    </tr>\n",
       "    <tr>\n",
       "      <th>mean</th>\n",
       "      <td>8.809450e+02</td>\n",
       "    </tr>\n",
       "    <tr>\n",
       "      <th>std</th>\n",
       "      <td>1.598885e+04</td>\n",
       "    </tr>\n",
       "    <tr>\n",
       "      <th>min</th>\n",
       "      <td>1.000000e+00</td>\n",
       "    </tr>\n",
       "    <tr>\n",
       "      <th>25%</th>\n",
       "      <td>1.000000e+01</td>\n",
       "    </tr>\n",
       "    <tr>\n",
       "      <th>50%</th>\n",
       "      <td>3.700000e+01</td>\n",
       "    </tr>\n",
       "    <tr>\n",
       "      <th>75%</th>\n",
       "      <td>1.570000e+02</td>\n",
       "    </tr>\n",
       "    <tr>\n",
       "      <th>max</th>\n",
       "      <td>1.585495e+06</td>\n",
       "    </tr>\n",
       "  </tbody>\n",
       "</table>\n",
       "</div>"
      ],
      "text/plain": [
       "               data\n",
       "count  5.299400e+04\n",
       "mean   8.809450e+02\n",
       "std    1.598885e+04\n",
       "min    1.000000e+00\n",
       "25%    1.000000e+01\n",
       "50%    3.700000e+01\n",
       "75%    1.570000e+02\n",
       "max    1.585495e+06"
      ]
     },
     "execution_count": 18,
     "metadata": {},
     "output_type": "execute_result"
    }
   ],
   "source": [
    "d = {'data' :tag_count}\n",
    "tmp = pd.DataFrame(data = d)\n",
    "tmp.describe()"
   ]
  },
  {
   "cell_type": "markdown",
   "metadata": {},
   "source": [
    "#### COMMENT: \n",
    "Please find above the relevant statistics about the tag count. These data confirm that we have a right tailed dataset. "
   ]
  },
  {
   "cell_type": "code",
   "execution_count": 19,
   "metadata": {},
   "outputs": [
    {
     "data": {
      "image/png": "[encoded data removed]",
      "text/plain": [
       "<Figure size 432x288 with 1 Axes>"
      ]
     },
     "metadata": {
      "needs_background": "light"
     },
     "output_type": "display_data"
    },
    {
     "data": {
      "image/png": "[encoded data removed]",
      "text/plain": [
       "<Figure size 432x288 with 1 Axes>"
      ]
     },
     "metadata": {
      "needs_background": "light"
     },
     "output_type": "display_data"
    }
   ],
   "source": [
    "plt.hist(tag_count, log=True)\n",
    "plt.xlabel('Tag Count [-]')\n",
    "plt.ylabel('log Number of data in category')\n",
    "plt.title('Tag Count histogram')\n",
    "plt.show()\n",
    "\n",
    "plt.hist(np.log10(tag_count), log=True)\n",
    "plt.xlabel('log Tag Count [10^x]')\n",
    "plt.ylabel('Number of data in category')\n",
    "plt.title('Log Tag Count histogram')\n",
    "plt.show()"
   ]
  },
  {
   "cell_type": "markdown",
   "metadata": {},
   "source": [
    "#### COMMENT : \n",
    "We decided to make an histogram to represent the tag count representation. This is because a histogram is a plot that lets you discover, and show, the underlying frequency distribution (shape) of a set of continuous data. In this case and as shown by the histograms we can see that our distribution follows a power law. "
   ]
  },
  {
   "cell_type": "markdown",
   "metadata": {},
   "source": [
    "### Plot a bar chart with the number of questions for the 10 most popular tags."
   ]
  },
  {
   "cell_type": "code",
   "execution_count": 20,
   "metadata": {},
   "outputs": [
    {
     "data": {
      "image/png": "[encoded data removed]",
      "text/plain": [
       "<Figure size 432x288 with 1 Axes>"
      ]
     },
     "metadata": {
      "needs_background": "light"
     },
     "output_type": "display_data"
    }
   ],
   "source": [
    "name = [x[0] for x in Sorted.collect()[0:10]]\n",
    "count = [x[1] for x in Sorted.collect()[0:10]]\n",
    "\n",
    "plt.bar(name, count)\n",
    "plt.xlabel('Tag Name')\n",
    "plt.ylabel('Tag Count')\n",
    "plt.xticks(rotation = 'vertical')\n",
    "plt.show()"
   ]
  },
  {
   "cell_type": "markdown",
   "metadata": {},
   "source": [
    "#### COMMENT: \n",
    "We can see that the most recurrent tag is the javascript with a bit less than 1600000 apparitions. The precise count is given by: "
   ]
  },
  {
   "cell_type": "code",
   "execution_count": 21,
   "metadata": {},
   "outputs": [
    {
     "data": {
      "text/plain": [
       "[('javascript', 1585495),\n",
       " ('java', 1352735),\n",
       " ('c#', 1172492),\n",
       " ('php', 1136082),\n",
       " ('android', 1088811),\n",
       " ('python', 954401),\n",
       " ('jquery', 886982),\n",
       " ('html', 725289),\n",
       " ('ios', 551843),\n",
       " ('c++', 536267)]"
      ]
     },
     "execution_count": 21,
     "metadata": {},
     "output_type": "execute_result"
    }
   ],
   "source": [
    "Sorted.collect()[0:10]"
   ]
  },
  {
   "cell_type": "markdown",
   "metadata": {},
   "source": [
    "### Task C: View-score relation\n",
    "\n",
    "We want to investigate the correlation between the view count and the score of questions.\n",
    "\n",
    "1. Get the view count and score of the questions with tag ```random-effects``` and visualize the relation between these two variables using an appropriate plot.\n",
    "2. Are these two variables correlated? Use the Pearson coefficient to validate your hypothesis. Discuss your findings in detail.\n",
    "\n",
    "**Hint:** Inspect the data visually before drawing your conclusions."
   ]
  },
  {
   "cell_type": "markdown",
   "metadata": {},
   "source": [
    "### C.1.1 - Load the Data "
   ]
  },
  {
   "cell_type": "code",
   "execution_count": 22,
   "metadata": {},
   "outputs": [
    {
     "name": "stdout",
     "output_type": "stream",
     "text": [
      "root\n",
      " |-- CreationDate: string (nullable = true)\n",
      " |-- Id: long (nullable = true)\n",
      " |-- ParentId: long (nullable = true)\n",
      " |-- PostTypeId: integer (nullable = true)\n",
      " |-- Score: integer (nullable = true)\n",
      " |-- Tags: string (nullable = true)\n",
      " |-- Title: string (nullable = true)\n",
      " |-- ViewCount: integer (nullable = true)\n",
      " |-- timestamp: timestamp (nullable = true)\n",
      "\n"
     ]
    }
   ],
   "source": [
    "### Convert the string time to Timestamp type \n",
    "from pyspark.sql.functions import unix_timestamp, from_unixtime, from_utc_timestamp\n",
    "\n",
    "# Load & Read parquet file\n",
    "posts_parquet = spark.read.parquet( DATA_DIR + \"posts.parquet\")\n",
    "\n",
    "# test if the data was uploaded correctly \n",
    "posts_parquet.printSchema()"
   ]
  },
  {
   "cell_type": "markdown",
   "metadata": {},
   "source": [
    "#### C.1.2 - Data Processing \n",
    "To archieve the demanded task we decided to extract the score, viewcount and tags column from the initial sparkdataframe. In a second setp we decide to keep only the cells that are containing the \"random-effects\" tag. "
   ]
  },
  {
   "cell_type": "code",
   "execution_count": 23,
   "metadata": {},
   "outputs": [
    {
     "name": "stdout",
     "output_type": "stream",
     "text": [
      "+-----+---------+--------------------+\n",
      "|Score|ViewCount|                Tags|\n",
      "+-----+---------+--------------------+\n",
      "|    0|       12|<statistics><regr...|\n",
      "|    0|      495|<r><plm><random-e...|\n",
      "|    0|      220|<r><nlme><random-...|\n",
      "|    0|       21|    <random-effects>|\n",
      "|    5|      126|<r><nlme><random-...|\n",
      "|   -1|       61|<r><lme4><random-...|\n",
      "|    0|      196|<r><loops><linear...|\n",
      "|    1|      131|<r><ggplot2><logi...|\n",
      "|    2|      487|<r><lme4><multi-l...|\n",
      "|    0|      699|<sas><simulation>...|\n",
      "|    0|       12|<logistic-regress...|\n",
      "|    4|      125|<statistics><lme4...|\n",
      "|    1|      211|<r><statistics><s...|\n",
      "|    2|      495|<jags><winbugs><r...|\n",
      "|    2|       76|<r><sas><anova><m...|\n",
      "|    0|       81|<r><mixed-models>...|\n",
      "|    0|       10|<regression><pane...|\n",
      "|    0|       47|<r><replication><...|\n",
      "|    1|      145|<r><nlme><random-...|\n",
      "|    0|       14|<cox-regression><...|\n",
      "+-----+---------+--------------------+\n",
      "only showing top 20 rows\n",
      "\n"
     ]
    }
   ],
   "source": [
    "# Select the usefull columns\n",
    "posts_parquet_selected = posts_parquet[['Score','ViewCount','Tags']]\n",
    "# Select all the tags containing 'random-effects'\n",
    "posts_parquet_selected = posts_parquet_selected[posts_parquet_selected.Tags.contains('random-effects')]\n",
    "# Print the resulting data\n",
    "posts_parquet_selected.show()"
   ]
  },
  {
   "cell_type": "code",
   "execution_count": 24,
   "metadata": {},
   "outputs": [
    {
     "name": "stdout",
     "output_type": "stream",
     "text": [
      "The tag random-effects appears  100  times in the dataset that we observed\n"
     ]
    }
   ],
   "source": [
    "# Check the shape\n",
    "print(\"The tag random-effects appears \", posts_parquet_selected.count(), \" times in the dataset that we observed\")"
   ]
  },
  {
   "cell_type": "markdown",
   "metadata": {},
   "source": [
    "#### C.1.3 - Data Analysis "
   ]
  },
  {
   "cell_type": "code",
   "execution_count": 25,
   "metadata": {},
   "outputs": [
    {
     "data": {
      "text/plain": [
       "<matplotlib.axes._subplots.AxesSubplot at 0x121c86908>"
      ]
     },
     "execution_count": 25,
     "metadata": {},
     "output_type": "execute_result"
    },
    {
     "data": {
      "image/png": "[encoded data removed]",
      "text/plain": [
       "<Figure size 432x288 with 1 Axes>"
      ]
     },
     "metadata": {
      "needs_background": "light"
     },
     "output_type": "display_data"
    }
   ],
   "source": [
    "# As the selected data is small, we transfer it to pandas to plot it easily\n",
    "df = posts_parquet_selected.toPandas()\n",
    "# We select the two variables of interest\n",
    "df = df[['Score', 'ViewCount']]\n",
    "df.plot.box()"
   ]
  },
  {
   "cell_type": "markdown",
   "metadata": {},
   "source": [
    "**COMMENT**: \n",
    "We decided to make a boxplot from the start in order to have a borad idea about the underlying distribution of our two columns being the Score and the ViewCount. As we can see, we are once again in a case where the data contains a lot of right outliers and whereas the median and the quantiles are pretty close to each other."
   ]
  },
  {
   "cell_type": "code",
   "execution_count": 26,
   "metadata": {},
   "outputs": [
    {
     "data": {
      "text/plain": [
       "Text(0.5,1,'Pairplot showing the relation between the Score and the ViewCount under different perspectives')"
      ]
     },
     "execution_count": 26,
     "metadata": {},
     "output_type": "execute_result"
    },
    {
     "data": {
      "image/png": "[encoded data removed]",
      "text/plain": [
       "<Figure size 360x360 with 6 Axes>"
      ]
     },
     "metadata": {
      "needs_background": "light"
     },
     "output_type": "display_data"
    }
   ],
   "source": [
    "# Create the default pairplot\n",
    "import seaborn as sns\n",
    "\n",
    "sns.pairplot(df)\n",
    "plt.title('Pairplot showing the relation between the Score and the ViewCount under different perspectives')"
   ]
  },
  {
   "cell_type": "markdown",
   "metadata": {},
   "source": [
    "**COMMENT**:  \n",
    "The pairplot (or scatter plot to be more general) make it possible to asses the linear correlation between two variables. As we can see from the plot there no obvious linear relationship between the vairable at the first sight since we do not see points distributed around the x = y line. As already shown in the boxplot, we can see that the major part of the data is located at the left of the distribution for boths variables. However, a few outliers could be recognized as shown on the figure bellow in red.  "
   ]
  },
  {
   "cell_type": "markdown",
   "metadata": {},
   "source": [
    "### Define how Outliers are Determined in Statistics\n",
    "Multiplying the interquartile range (IQR) by 1.5 (weak outliers) and 3.0 (strong outliers) will give us a way to determine whether a certain value is an outlier. If we subtract 3 x IQR from the first quartile, any data values that are less than this number are considered outliers. Similarly, if we add 3 x IQR to the third quartile, any data values that are greater than this number are considered outliers."
   ]
  },
  {
   "cell_type": "code",
   "execution_count": 27,
   "metadata": {},
   "outputs": [
    {
     "data": {
      "text/html": [
       "<div>\n",
       "<style scoped>\n",
       "    .dataframe tbody tr th:only-of-type {\n",
       "        vertical-align: middle;\n",
       "    }\n",
       "\n",
       "    .dataframe tbody tr th {\n",
       "        vertical-align: top;\n",
       "    }\n",
       "\n",
       "    .dataframe thead th {\n",
       "        text-align: right;\n",
       "    }\n",
       "</style>\n",
       "<table border=\"1\" class=\"dataframe\">\n",
       "  <thead>\n",
       "    <tr style=\"text-align: right;\">\n",
       "      <th></th>\n",
       "      <th>Score</th>\n",
       "      <th>ViewCount</th>\n",
       "    </tr>\n",
       "  </thead>\n",
       "  <tbody>\n",
       "    <tr>\n",
       "      <th>count</th>\n",
       "      <td>100.000000</td>\n",
       "      <td>100.000000</td>\n",
       "    </tr>\n",
       "    <tr>\n",
       "      <th>mean</th>\n",
       "      <td>1.500000</td>\n",
       "      <td>1191.830000</td>\n",
       "    </tr>\n",
       "    <tr>\n",
       "      <th>std</th>\n",
       "      <td>4.154832</td>\n",
       "      <td>5037.166977</td>\n",
       "    </tr>\n",
       "    <tr>\n",
       "      <th>min</th>\n",
       "      <td>-2.000000</td>\n",
       "      <td>10.000000</td>\n",
       "    </tr>\n",
       "    <tr>\n",
       "      <th>25%</th>\n",
       "      <td>0.000000</td>\n",
       "      <td>64.250000</td>\n",
       "    </tr>\n",
       "    <tr>\n",
       "      <th>50%</th>\n",
       "      <td>0.000000</td>\n",
       "      <td>179.000000</td>\n",
       "    </tr>\n",
       "    <tr>\n",
       "      <th>75%</th>\n",
       "      <td>1.000000</td>\n",
       "      <td>534.000000</td>\n",
       "    </tr>\n",
       "    <tr>\n",
       "      <th>max</th>\n",
       "      <td>31.000000</td>\n",
       "      <td>42678.000000</td>\n",
       "    </tr>\n",
       "  </tbody>\n",
       "</table>\n",
       "</div>"
      ],
      "text/plain": [
       "            Score     ViewCount\n",
       "count  100.000000    100.000000\n",
       "mean     1.500000   1191.830000\n",
       "std      4.154832   5037.166977\n",
       "min     -2.000000     10.000000\n",
       "25%      0.000000     64.250000\n",
       "50%      0.000000    179.000000\n",
       "75%      1.000000    534.000000\n",
       "max     31.000000  42678.000000"
      ]
     },
     "execution_count": 27,
     "metadata": {},
     "output_type": "execute_result"
    }
   ],
   "source": [
    "df.describe()"
   ]
  },
  {
   "cell_type": "code",
   "execution_count": 28,
   "metadata": {},
   "outputs": [
    {
     "name": "stdout",
     "output_type": "stream",
     "text": [
      "The data point is considered as being an outlier if it is outside of this interval: [ 0 1943.25 ]\n"
     ]
    }
   ],
   "source": [
    "IQR = 534.000000 - 64.250000\n",
    "low_outlier = max(0, 64.250000 - 3*IQR)\n",
    "high_outlier = 534 + 3*IQR \n",
    "\n",
    "print( \"The data point is considered as being an outlier if it is outside of this interval: [\", low_outlier , high_outlier, ']')"
   ]
  },
  {
   "cell_type": "code",
   "execution_count": 29,
   "metadata": {},
   "outputs": [
    {
     "data": {
      "image/png": "[encoded data removed]",
      "text/plain": [
       "<Figure size 432x288 with 1 Axes>"
      ]
     },
     "metadata": {
      "needs_background": "light"
     },
     "output_type": "display_data"
    }
   ],
   "source": [
    "df_no_outliers = df[df.ViewCount < high_outlier]\n",
    "df_out_outliers = df[df.ViewCount > high_outlier]\n",
    "ax =  df_no_outliers.plot.scatter(x='Score', y='ViewCount', label = 'ViewCount')\n",
    "df_out_outliers.plot.scatter(x='Score', y='ViewCount', ax=ax, color='red', label = 'ViewCount- Outlier')\n",
    "plt.title('2D Scatter showing the score in function of the view count on regular axis')\n",
    "plt.show()"
   ]
  },
  {
   "cell_type": "markdown",
   "metadata": {},
   "source": [
    "**COMMENT**: \n",
    "From this plot we can see that, generally speaking there is a weak positive relation possibly linear relation between both variables as we can see from the plot above. In part C.2.1, the Pearson and Spearman tests will give us more details about the nature of the relationship between both variables. "
   ]
  },
  {
   "cell_type": "markdown",
   "metadata": {},
   "source": [
    "### Additional Graphs on non-linear relations between both variables "
   ]
  },
  {
   "cell_type": "code",
   "execution_count": 30,
   "metadata": {},
   "outputs": [
    {
     "data": {
      "image/png": "[encoded data removed]",
      "text/plain": [
       "<Figure size 432x288 with 1 Axes>"
      ]
     },
     "metadata": {
      "needs_background": "light"
     },
     "output_type": "display_data"
    }
   ],
   "source": [
    "ax =  df_no_outliers.plot.scatter(x='Score', y='ViewCount', label = 'ViewCount', logy=True)\n",
    "df_out_outliers.plot.scatter(x='Score', y='ViewCount', ax=ax, color='red', label = 'ViewCount- Outlier', logy =True)\n",
    "plt.title('2D Scatter showing the score in function of the view count on log y axis')\n",
    "plt.show()"
   ]
  },
  {
   "cell_type": "markdown",
   "metadata": {},
   "source": [
    "**Spearman’s Rank Correlation**: \n",
    "Two variables may be related by a nonlinear relationship, such that the relationship is stronger or weaker across the distribution of the variables."
   ]
  },
  {
   "cell_type": "code",
   "execution_count": 31,
   "metadata": {},
   "outputs": [
    {
     "name": "stdout",
     "output_type": "stream",
     "text": [
      "Pearson correlation coefficient :               Score  ViewCount\n",
      "Score      1.000000   0.463951\n",
      "ViewCount  0.463951   1.000000\n"
     ]
    },
    {
     "data": {
      "image/png": "[encoded data removed]",
      "text/plain": [
       "<Figure size 432x288 with 1 Axes>"
      ]
     },
     "metadata": {
      "needs_background": "light"
     },
     "output_type": "display_data"
    }
   ],
   "source": [
    "pd.plotting.autocorrelation_plot(df) #considering the outliers \n",
    "print('Pearson correlation coefficient :', df.corr(method='spearman'))"
   ]
  },
  {
   "cell_type": "code",
   "execution_count": 32,
   "metadata": {},
   "outputs": [
    {
     "name": "stdout",
     "output_type": "stream",
     "text": [
      "Pearson correlation coefficient :              Score  ViewCount\n",
      "Score      1.00000    0.39887\n",
      "ViewCount  0.39887    1.00000\n"
     ]
    },
    {
     "data": {
      "image/png": "[encoded data removed]",
      "text/plain": [
       "<Figure size 432x288 with 1 Axes>"
      ]
     },
     "metadata": {
      "needs_background": "light"
     },
     "output_type": "display_data"
    }
   ],
   "source": [
    "pd.plotting.autocorrelation_plot(df_no_outliers) #ignoring the outliers \n",
    "print('Pearson correlation coefficient :', df_no_outliers.corr(method='spearman'))"
   ]
  },
  {
   "cell_type": "markdown",
   "metadata": {},
   "source": [
    "**COMMENT**: From the spearman relation we can see that, since it is bellow 0.5, there is a notable non-linear correlation between both values. This is confirmed by the semilog scatter plot that we implemented. "
   ]
  },
  {
   "cell_type": "code",
   "execution_count": 33,
   "metadata": {},
   "outputs": [
    {
     "data": {
      "text/plain": [
       "<matplotlib.axes._subplots.AxesSubplot at 0x1a2445cd68>"
      ]
     },
     "execution_count": 33,
     "metadata": {},
     "output_type": "execute_result"
    },
    {
     "data": {
      "image/png": "[encoded data removed]",
      "text/plain": [
       "<Figure size 432x288 with 1 Axes>"
      ]
     },
     "metadata": {
      "needs_background": "light"
     },
     "output_type": "display_data"
    }
   ],
   "source": [
    "pd.plotting.lag_plot(df[df.ViewCount < high_outlier])"
   ]
  },
  {
   "cell_type": "markdown",
   "metadata": {},
   "source": [
    "**COMMENT**: \n",
    "Creating a lag plot enables you to check for randomness. Random data will spread fairly evenly both horizontally and vertically. If you cannot see a pattern in the graph, the data is most probably random. Which here is not excliuded in this case. "
   ]
  },
  {
   "cell_type": "markdown",
   "metadata": {},
   "source": [
    "#### C.2.1 - Determine the Pearson Correlation \n",
    "The Pearson correlation coefficient (named for Karl Pearson) can be used to summarize the strength of the linear relationship between two data samples. The coefficient returns a value between -1 and 1 that represents the limits of correlation from a full negative correlation to a full positive correlation. A value of 0 means no correlation. The value must be interpreted, where often a value below -0.5 or above 0.5 indicates a notable correlation, and values below those values suggests a less notable correlation."
   ]
  },
  {
   "cell_type": "code",
   "execution_count": 34,
   "metadata": {},
   "outputs": [
    {
     "data": {
      "text/plain": [
       "array([[<matplotlib.axes._subplots.AxesSubplot object at 0x1a2452dda0>,\n",
       "        <matplotlib.axes._subplots.AxesSubplot object at 0x1a243f0080>],\n",
       "       [<matplotlib.axes._subplots.AxesSubplot object at 0x1a24417710>,\n",
       "        <matplotlib.axes._subplots.AxesSubplot object at 0x1a245cada0>]],\n",
       "      dtype=object)"
      ]
     },
     "execution_count": 34,
     "metadata": {},
     "output_type": "execute_result"
    },
    {
     "data": {
      "image/png": "[encoded data removed]",
      "text/plain": [
       "<Figure size 432x432 with 4 Axes>"
      ]
     },
     "metadata": {
      "needs_background": "light"
     },
     "output_type": "display_data"
    }
   ],
   "source": [
    "from pandas.plotting import scatter_matrix\n",
    "scatter_matrix(df, alpha=0.2, figsize=(6, 6), diagonal='kde')"
   ]
  },
  {
   "cell_type": "markdown",
   "metadata": {},
   "source": [
    "**COMMENT** : \n",
    "The scater matrix is a pair-wise scatter plot of several variables presented in a matrix format. It can be used to determine whether the variables are correlated and whether the correlation is positive or negative. Here we can see that the seems to be a correlation between the data for the low score values as can be seen in the top left pannel. "
   ]
  },
  {
   "cell_type": "code",
   "execution_count": 35,
   "metadata": {
    "scrolled": true
   },
   "outputs": [
    {
     "name": "stdout",
     "output_type": "stream",
     "text": [
      "Pearson correlation coefficient :               Score  ViewCount\n",
      "Score      1.000000   0.882197\n",
      "ViewCount  0.882197   1.000000\n"
     ]
    },
    {
     "data": {
      "image/png": "[encoded data removed]",
      "text/plain": [
       "<Figure size 432x288 with 1 Axes>"
      ]
     },
     "metadata": {
      "needs_background": "light"
     },
     "output_type": "display_data"
    }
   ],
   "source": [
    "pd.plotting.autocorrelation_plot(df)\n",
    "print('Pearson correlation coefficient :', df.corr(method='pearson'))"
   ]
  },
  {
   "cell_type": "code",
   "execution_count": 36,
   "metadata": {},
   "outputs": [
    {
     "name": "stdout",
     "output_type": "stream",
     "text": [
      "Pearson correlation coefficient :               Score  ViewCount\n",
      "Score      1.000000   0.236455\n",
      "ViewCount  0.236455   1.000000\n"
     ]
    },
    {
     "data": {
      "image/png": "[encoded data removed]",
      "text/plain": [
       "<Figure size 432x288 with 1 Axes>"
      ]
     },
     "metadata": {
      "needs_background": "light"
     },
     "output_type": "display_data"
    }
   ],
   "source": [
    "pd.plotting.autocorrelation_plot(df_no_outliers)\n",
    "print('Pearson correlation coefficient :', df_no_outliers.corr(method='pearson'))"
   ]
  },
  {
   "cell_type": "markdown",
   "metadata": {},
   "source": [
    "**COMMENT**: \n",
    "During this section C, we implemented various different techniques in order to assess how our data is related. In a first step, we looked at the distribution under different scales in order to assess visually want could be the relation between the variables. In a second times, we used the statisical definition of a strong outlier in order to remove un-consistent data for the corralation assment. This data is still interesting to answer to other questions. Finally, we used the Pearson and the Spearman correlation to assess whether the relation between both variables is linear, respectively non-linear. We obtained a Pearson coefficient of 0.23 for the cleaned data which indicate a low linear relationship between the variables. The  spearman rank correlation between the variables gave the same answer regarding the non-linear relation between both varaibles. Finally, we used a lag plot which could be a measure of random relationship between the data. For the non-outlier population of the data the random relationship could not be excluded. "
   ]
  },
  {
   "cell_type": "markdown",
   "metadata": {},
   "source": [
    "### Task D: What are the tags with the fastest first answer?\n",
    "\n",
    "What are the tags that have the fastest response time from the community? We define the response time as the difference in seconds between the timestamps of the question and of the first answer received.\n",
    "\n",
    "1. Get the response time for the first answer of the questions with the tags ```python``` and ```java```.\n",
    "2. Plot the two distributions in an appropriate format. What do you observe? Describe your findings and discuss the following distribution properties: mean, median, standard deviation.\n",
    "3. We believe that the response time is lower for questions related to Python (compare to Java). Contradict or confirm this assumption by estimating the proper statistic with bootstrapping. Visualize the 95% confidence intervals with box plots and describe your findings.\n",
    "3. Repeat the first analysis (D1) by using the proper statistic to measure the response time for the tags that appear at least 5000 times. Plot the distribution of the 10 tags with the fastest response time.\n"
   ]
  },
  {
   "cell_type": "code",
   "execution_count": 37,
   "metadata": {},
   "outputs": [],
   "source": [
    "from pyspark.sql.functions import col, min as min_, mean\n",
    "from pyspark.sql import functions as F\n",
    "import random\n",
    "\n",
    "# We define the structure of our time date variable\n",
    "timeFmt = \"yyyy-MM-dd'T'HH:mm:ss.SSS\""
   ]
  },
  {
   "cell_type": "markdown",
   "metadata": {},
   "source": [
    "#### D.1 : Get the response time for the first answer of the questions with the tags python and java :"
   ]
  },
  {
   "cell_type": "code",
   "execution_count": 38,
   "metadata": {},
   "outputs": [
    {
     "name": "stdout",
     "output_type": "stream",
     "text": [
      "+--------------------+--------+----------+--------------------+--------+\n",
      "|        CreationDate|      Id|PostTypeId|                Tags|ParentId|\n",
      "+--------------------+--------+----------+--------------------+--------+\n",
      "|2017-08-17T16:21:...|45740358|         1|<python><websocke...|    null|\n",
      "|2017-08-17T16:25:...|45740445|         1|<python><python-2.7>|    null|\n",
      "|2017-08-17T16:29:...|45740537|         1|<python><pandas><...|    null|\n",
      "|2017-08-17T16:37:...|45740682|         1|<python><macos><h...|    null|\n",
      "|2017-08-17T16:39:...|45740714|         1|<python><flask><f...|    null|\n",
      "|2017-08-17T16:40:...|45740730|         1|<python><apache-s...|    null|\n",
      "|2017-08-17T16:41:...|45740750|         1|<python><mysql><ssh>|    null|\n",
      "|2017-08-17T16:42:...|45740776|         1|      <java><python>|    null|\n",
      "|2017-08-17T16:44:...|45740794|         1|<python><ironpython>|    null|\n",
      "|2017-08-17T16:44:...|45740804|         1|<python><c++><uni...|    null|\n",
      "|2017-08-17T16:45:...|45740829|         1|      <python><math>|    null|\n",
      "|2017-08-17T16:48:...|45740871|         1|<python><json><py...|    null|\n",
      "|2017-08-17T16:49:...|45740893|         1|<python><scikit-l...|    null|\n",
      "|2017-08-17T16:50:...|45740920|         1|<python><machine-...|    null|\n",
      "|2017-08-17T16:51:...|45740922|         1|<python><gmail><g...|    null|\n",
      "|2017-08-17T16:51:...|45740940|         1|<python><linux><c...|    null|\n",
      "|2017-08-17T16:52:...|45740943|         1|            <python>|    null|\n",
      "|2017-08-17T17:02:...|45741133|         1|<java><python><so...|    null|\n",
      "|2017-08-17T17:03:...|45741146|         1|            <python>|    null|\n",
      "|2017-08-17T17:04:...|45741165|         1|<python><pandas><...|    null|\n",
      "+--------------------+--------+----------+--------------------+--------+\n",
      "only showing top 20 rows\n",
      "\n",
      "+--------------------+--------+----------+--------------------+--------+\n",
      "|        CreationDate|      Id|PostTypeId|                Tags|ParentId|\n",
      "+--------------------+--------+----------+--------------------+--------+\n",
      "|2017-08-17T16:21:...|45740378|         1|<java><android><r...|    null|\n",
      "|2017-08-17T16:23:...|45740406|         1|<java><swing><jta...|    null|\n",
      "|2017-08-17T16:26:...|45740464|         1|<java><android><a...|    null|\n",
      "|2017-08-17T16:27:...|45740485|         1|<java><spring><ra...|    null|\n",
      "|2017-08-17T16:27:...|45740489|         1|<java><android><f...|    null|\n",
      "|2017-08-17T16:28:...|45740513|         1|<javascript><java...|    null|\n",
      "|2017-08-17T16:29:...|45740538|         1|<java><regex><dat...|    null|\n",
      "|2017-08-17T16:29:...|45740544|         1|<java><gradle><ru...|    null|\n",
      "|2017-08-17T16:34:...|45740610|         1|<java><spring><ec...|    null|\n",
      "|2017-08-17T16:34:...|45740613|         1| <java><email><jdbc>|    null|\n",
      "|2017-08-17T16:36:...|45740645|         1|<java><android><a...|    null|\n",
      "|2017-08-17T16:36:...|45740655|         1|<java><activemq><...|    null|\n",
      "|2017-08-17T16:38:...|45740694|         1|<javascript><java...|    null|\n",
      "|2017-08-17T16:39:...|45740707|         1|<java><netbeans><...|    null|\n",
      "|2017-08-17T16:39:...|45740722|         1|<java><spring-boo...|    null|\n",
      "|2017-08-17T16:41:...|45740756|         1|<java><arrays><ra...|    null|\n",
      "|2017-08-17T16:41:...|45740758|         1|<java><yaml><snak...|    null|\n",
      "|2017-08-17T16:42:...|45740776|         1|      <java><python>|    null|\n",
      "|2017-08-17T16:44:...|45740803|         1|<java><spring><sp...|    null|\n",
      "|2017-08-17T16:49:...|45740900|         1|<javascript><java...|    null|\n",
      "+--------------------+--------+----------+--------------------+--------+\n",
      "only showing top 20 rows\n",
      "\n",
      "Python shape : (954401, 5)\n",
      "Java shape : (1352735, 5)\n"
     ]
    }
   ],
   "source": [
    "# Load the files\n",
    "posts_parquet = spark.read.parquet( DATA_DIR + \"posts.parquet\")\n",
    "\n",
    "# Select usefull columns\n",
    "posts_parquet_selected = posts_parquet[['CreationDate','Id','PostTypeId','Tags','ParentId']]\n",
    "\n",
    "# Separate python tags and java tags\n",
    "posts_parquet_python = posts_parquet_selected[posts_parquet_selected.Tags.contains('<python>')]\n",
    "posts_parquet_java = posts_parquet_selected[posts_parquet_selected.Tags.contains('<java>')]\n",
    "\n",
    "# Print the two different DataFrame and check the shape\n",
    "posts_parquet_python.show()\n",
    "posts_parquet_java.show()\n",
    "print('Python shape :',(posts_parquet_python.count(), len(posts_parquet_python.columns)))\n",
    "print('Java shape :',(posts_parquet_java.count(), len(posts_parquet_java.columns)))"
   ]
  },
  {
   "cell_type": "code",
   "execution_count": 39,
   "metadata": {},
   "outputs": [
    {
     "name": "stdout",
     "output_type": "stream",
     "text": [
      "Fisrt Answer selection shape : (14186282, 2)\n"
     ]
    }
   ],
   "source": [
    "# Creation of the question time feature for both category\n",
    "question_time_python = posts_parquet_python.selectExpr(\"CreationDate as DepartureDate\",'PostTypeId as PostTypeId', 'Id as Id')\n",
    "question_time_java = posts_parquet_java.selectExpr(\"CreationDate as DepartureDate\",'PostTypeId as PostTypeId', 'Id as Id')\n",
    "\n",
    "# Reloading of the raw data to select the answers corresponding to the tags \n",
    "posts_parquet = spark.read.parquet( DATA_DIR + \"posts.parquet\")\n",
    "posts_parquet = posts_parquet.withColumn('timestamp', from_utc_timestamp(posts_parquet.CreationDate, \"PST\"))\n",
    "\n",
    "# Select usefull columns\n",
    "posts_parquet_selected = posts_parquet[['CreationDate','ParentId','PostTypeId','Tags']]\n",
    "\n",
    "# We groupby parentID to have all the answers corresponding to the same question and we select the more older one (so the first answer) with min function on timestamp type. \n",
    "first_answer_date = posts_parquet_selected[posts_parquet_selected.PostTypeId == 2].groupBy(\"ParentId\").agg(min_(\"CreationDate\").alias(\"FirstAnswerDate\"))\n",
    "\n",
    "# Again we select the columns of interest\n",
    "first_answer_date = first_answer_date.selectExpr(\"ParentId as Id\",'FirstAnswerDate as FirstAnswerDate')\n",
    "\n",
    "# We check the shape of all the first answer selection \n",
    "print('Fisrt Answer selection shape :', (first_answer_date.count(), len(first_answer_date.columns)))"
   ]
  },
  {
   "cell_type": "markdown",
   "metadata": {},
   "source": [
    "#### Python Tag"
   ]
  },
  {
   "cell_type": "code",
   "execution_count": 40,
   "metadata": {},
   "outputs": [
    {
     "name": "stdout",
     "output_type": "stream",
     "text": [
      "+------+--------------------+----------+--------------------+------------+\n",
      "|    Id|       DepartureDate|PostTypeId|     FirstAnswerDate|ResponseTime|\n",
      "+------+--------------------+----------+--------------------+------------+\n",
      "| 39104|2008-09-02T09:40:...|         1|2008-09-02T11:43:...|        7399|\n",
      "| 92620|2008-09-18T13:41:...|         1|2008-09-18T15:06:...|        5089|\n",
      "|116139|2008-09-22T17:08:...|         1|2008-09-22T17:16:...|         511|\n",
      "|181556|2008-10-08T06:34:...|         1|2008-10-08T06:46:...|         756|\n",
      "|227928|2008-10-22T23:38:...|         1|2008-10-22T23:40:...|         116|\n",
      "|447117|2009-01-15T15:15:...|         1|2009-01-15T15:19:...|         217|\n",
      "|472575|2009-01-23T11:16:...|         1|2009-01-23T11:23:...|         397|\n",
      "|474373|2009-01-23T20:23:...|         1|2009-01-23T20:36:...|         754|\n",
      "|516039|2009-02-05T14:11:...|         1|2009-02-05T14:17:...|         367|\n",
      "|620154|2009-03-06T19:44:...|         1|2009-03-06T19:53:...|         529|\n",
      "|651048|2009-03-16T16:00:...|         1|2009-03-16T16:08:...|         491|\n",
      "|671323|2009-03-22T17:22:...|         1|2009-03-22T17:28:...|         365|\n",
      "|685869|2009-03-26T13:45:...|         1|2009-03-26T16:50:...|       11061|\n",
      "|694366|2009-03-29T09:13:...|         1|2009-03-29T09:16:...|         204|\n",
      "|722697|2009-04-06T18:55:...|         1|2009-04-06T18:56:...|          65|\n",
      "|761586|2009-04-17T18:15:...|         1|2009-04-17T18:21:...|         347|\n",
      "|767377|2009-04-20T08:24:...|         1|2009-04-20T08:44:...|        1210|\n",
      "|777924|2009-04-22T15:46:...|         1|2009-04-22T15:51:...|         335|\n",
      "|781594|2009-04-23T13:06:...|         1|2009-04-23T13:45:...|        2370|\n",
      "|787262|2009-04-24T19:36:...|         1|2009-04-24T19:41:...|         332|\n",
      "+------+--------------------+----------+--------------------+------------+\n",
      "only showing top 20 rows\n",
      "\n",
      "Python Response Time shape (830160, 5)\n"
     ]
    }
   ],
   "source": [
    "# We join the file corresponding to the questions with the file corresponding to the answer using ID and IDParent columns\n",
    "new_df_python = question_time_python.join(first_answer_date, on = ['Id'])\n",
    "# We create the ResponseTime feature by finding the difference of time between question and answer.\n",
    "new_df_python = new_df_python.withColumn('ResponseTime', (F.unix_timestamp('FirstAnswerDate', format=timeFmt) \n",
    "                                                                                                        - F.unix_timestamp('DepartureDate', format=timeFmt)))\n",
    "new_df_python.show()\n",
    "print('Python Response Time shape', (new_df_python.count(), len(new_df_python.columns)))"
   ]
  },
  {
   "cell_type": "markdown",
   "metadata": {},
   "source": [
    "#### Java Tag "
   ]
  },
  {
   "cell_type": "code",
   "execution_count": 41,
   "metadata": {},
   "outputs": [
    {
     "name": "stdout",
     "output_type": "stream",
     "text": [
      "+------+--------------------+----------+--------------------+------------+\n",
      "|    Id|       DepartureDate|PostTypeId|     FirstAnswerDate|ResponseTime|\n",
      "+------+--------------------+----------+--------------------+------------+\n",
      "| 30428|2008-08-27T15:21:...|         1|2008-08-27T15:53:...|        1922|\n",
      "| 37310|2008-09-01T00:40:...|         1|2008-09-01T00:47:...|         439|\n",
      "| 55709|2008-09-11T02:40:...|         1|2008-09-11T02:45:...|         290|\n",
      "| 79662|2008-09-17T03:29:...|         1|2008-09-17T03:31:...|         156|\n",
      "|112603|2008-09-22T00:01:...|         1|2008-09-22T00:52:...|        3076|\n",
      "|132353|2008-09-25T09:41:...|         1|2008-09-25T10:02:...|        1258|\n",
      "|191998|2008-10-10T15:53:...|         1|2008-10-10T16:04:...|         666|\n",
      "|203677|2008-10-15T03:53:...|         1|2008-10-15T04:45:...|        3099|\n",
      "|241185|2008-10-27T19:48:...|         1|2008-10-27T23:19:...|       12680|\n",
      "|325443|2008-11-28T10:24:...|         1|2008-11-28T10:26:...|         146|\n",
      "|327408|2008-11-29T10:23:...|         1|2008-11-29T11:03:...|        2412|\n",
      "|346762|2008-12-06T20:55:...|         1|2008-12-06T21:03:...|         468|\n",
      "|357579|2008-12-10T20:53:...|         1|2008-12-15T05:27:...|      376445|\n",
      "|359147|2008-12-11T12:15:...|         1|2008-12-11T13:19:...|        3819|\n",
      "|379354|2008-12-18T21:28:...|         1|2008-12-18T22:00:...|        1912|\n",
      "|385824|2008-12-22T09:04:...|         1|2008-12-22T09:11:...|         425|\n",
      "|393252|2008-12-25T22:40:...|         1|2008-12-25T22:47:...|         409|\n",
      "|431338|2009-01-10T17:06:...|         1|2009-01-10T17:27:...|        1284|\n",
      "|440931|2009-01-13T21:46:...|         1|2009-01-13T21:52:...|         370|\n",
      "|442494|2009-01-14T10:11:...|         1|2009-01-14T10:23:...|         722|\n",
      "+------+--------------------+----------+--------------------+------------+\n",
      "only showing top 20 rows\n",
      "\n",
      "Java Response Time shape (1179070, 5)\n"
     ]
    }
   ],
   "source": [
    "# We join the file corresponding to the questions with the file corresponding to the answer using ID and IDParent columns\n",
    "new_df_java = question_time_java.join(first_answer_date, on = ['Id'])\n",
    "# We create the ResponseTime feature by finding the difference of time between question and answer.\n",
    "new_df_java = new_df_java.withColumn('ResponseTime', (F.unix_timestamp('FirstAnswerDate', format=timeFmt) \n",
    "                                            - F.unix_timestamp('DepartureDate', format=timeFmt)))\n",
    "new_df_java.show()\n",
    "print('Java Response Time shape', (new_df_java.count(), len(new_df_java.columns)))"
   ]
  },
  {
   "cell_type": "code",
   "execution_count": 42,
   "metadata": {},
   "outputs": [],
   "source": [
    "# Convert to DataFrame to create the plot as in the tutorial by taking just the columns of interest\n",
    "new_df_python = new_df_python.selectExpr(\"ResponseTime as ResponseTime\")\n",
    "new_df_python = new_df_python.toPandas()\n",
    "new_df_java = new_df_java.selectExpr(\"ResponseTime as ResponseTime\")\n",
    "new_df_java = new_df_java.toPandas()"
   ]
  },
  {
   "cell_type": "markdown",
   "metadata": {},
   "source": [
    "Here is a resume the key points of our procedure :\n",
    "    - We select all the answers containing the two tags of interest thanks to the function contains(). \n",
    "    - Thanks to that we create the features corresponding to the question time and date for both tags.\n",
    "    - Then we select all the answers and thanks to groupby and min we keep only the first answer per ParentID.\n",
    "    - To conclude, we join questions and answer dataframe by looking at ID and by susbtract the two date we find the response time."
   ]
  },
  {
   "cell_type": "markdown",
   "metadata": {},
   "source": [
    "### PART D.2 : \n",
    "Plot the two distributions in an appropriate format. What do you observe? Describe your findings and discuss the following distribution properties: mean, median, standard deviation : "
   ]
  },
  {
   "cell_type": "markdown",
   "metadata": {},
   "source": [
    "### Clean Data \n",
    "We decide to remove the time intervals that are smaller than 0 since it is impossible to answer a question before it was even asked. "
   ]
  },
  {
   "cell_type": "code",
   "execution_count": 43,
   "metadata": {},
   "outputs": [],
   "source": [
    "new_df_python_deleted = new_df_python[new_df_python.ResponseTime <= 0]\n",
    "new_df_java_deleted = new_df_java[new_df_java.ResponseTime <= 0]\n",
    "\n",
    "new_df_python_cleaned = new_df_python[new_df_python.ResponseTime > 0]\n",
    "new_df_java_cleaned = new_df_java[new_df_java.ResponseTime > 0]"
   ]
  },
  {
   "cell_type": "code",
   "execution_count": 44,
   "metadata": {},
   "outputs": [
    {
     "name": "stdout",
     "output_type": "stream",
     "text": [
      "The amount of data for the python that was removed is :  2312\n",
      "The amount of data for the java that was removed is :  2252\n"
     ]
    }
   ],
   "source": [
    "print(\"The amount of data for the python that was removed is : \", len(new_df_python_deleted))\n",
    "print(\"The amount of data for the java that was removed is : \", len(new_df_java_deleted))"
   ]
  },
  {
   "cell_type": "code",
   "execution_count": 91,
   "metadata": {},
   "outputs": [],
   "source": [
    "##Remove the outliers \n",
    "Q1_java = np.quantile(new_df_java_cleaned, 0.25)\n",
    "Q3_java = np.quantile(new_df_java_cleaned, 0.75)\n",
    "new_df_java_cleaned = new_df_java_cleaned[new_df_java_cleaned.ResponseTime < Q3_java + 3*(Q3_java - Q1_java)]\n",
    "\n",
    "##Remove the outliers \n",
    "Q1_python = np.quantile(new_df_python_cleaned, 0.25)\n",
    "Q3_python = np.quantile(new_df_python_cleaned, 0.75)\n",
    "new_df_python_cleaned = new_df_python_cleaned[new_df_python_cleaned.ResponseTime < Q3_python + 3*(Q3_python - Q1_python)]"
   ]
  },
  {
   "cell_type": "markdown",
   "metadata": {},
   "source": [
    "**COMMENT** : \n",
    "The entire python dataframe contains 830160 rows, removing 2312 cells does not affect the distribution that we have. For the java dataframe we can draw the same conclusions : The original java dataframe contained 1179070 entries and 2252 of then were removed which is less than 1%. "
   ]
  },
  {
   "cell_type": "markdown",
   "metadata": {},
   "source": [
    "### Analyse Data"
   ]
  },
  {
   "cell_type": "code",
   "execution_count": 92,
   "metadata": {},
   "outputs": [
    {
     "data": {
      "image/png": "[encoded data removed]",
      "text/plain": [
       "<Figure size 432x288 with 1 Axes>"
      ]
     },
     "metadata": {
      "needs_background": "light"
     },
     "output_type": "display_data"
    }
   ],
   "source": [
    "new_df_python_cleaned.plot.box()\n",
    "plt.title('Boxplot of Python Response Time Distribution')\n",
    "plt.ylabel('time [s]')\n",
    "plt.show()"
   ]
  },
  {
   "cell_type": "code",
   "execution_count": 93,
   "metadata": {
    "scrolled": false
   },
   "outputs": [
    {
     "data": {
      "image/png": "[encoded data removed]",
      "text/plain": [
       "<Figure size 432x288 with 1 Axes>"
      ]
     },
     "metadata": {
      "needs_background": "light"
     },
     "output_type": "display_data"
    }
   ],
   "source": [
    "new_df_java_cleaned.plot.box()\n",
    "plt.title('Boxplot of Java Response Time Distribution')\n",
    "plt.ylabel(\"time [s]\")\n",
    "plt.show()"
   ]
  },
  {
   "cell_type": "code",
   "execution_count": 47,
   "metadata": {},
   "outputs": [
    {
     "data": {
      "text/html": [
       "<div>\n",
       "<style scoped>\n",
       "    .dataframe tbody tr th:only-of-type {\n",
       "        vertical-align: middle;\n",
       "    }\n",
       "\n",
       "    .dataframe tbody tr th {\n",
       "        vertical-align: top;\n",
       "    }\n",
       "\n",
       "    .dataframe thead th {\n",
       "        text-align: right;\n",
       "    }\n",
       "</style>\n",
       "<table border=\"1\" class=\"dataframe\">\n",
       "  <thead>\n",
       "    <tr style=\"text-align: right;\">\n",
       "      <th></th>\n",
       "      <th>ResponseTime</th>\n",
       "    </tr>\n",
       "  </thead>\n",
       "  <tbody>\n",
       "    <tr>\n",
       "      <th>count</th>\n",
       "      <td>8.278480e+05</td>\n",
       "    </tr>\n",
       "    <tr>\n",
       "      <th>mean</th>\n",
       "      <td>9.837171e+05</td>\n",
       "    </tr>\n",
       "    <tr>\n",
       "      <th>std</th>\n",
       "      <td>6.908426e+06</td>\n",
       "    </tr>\n",
       "    <tr>\n",
       "      <th>min</th>\n",
       "      <td>1.000000e+00</td>\n",
       "    </tr>\n",
       "    <tr>\n",
       "      <th>25%</th>\n",
       "      <td>4.250000e+02</td>\n",
       "    </tr>\n",
       "    <tr>\n",
       "      <th>50%</th>\n",
       "      <td>1.357000e+03</td>\n",
       "    </tr>\n",
       "    <tr>\n",
       "      <th>75%</th>\n",
       "      <td>9.583000e+03</td>\n",
       "    </tr>\n",
       "    <tr>\n",
       "      <th>max</th>\n",
       "      <td>2.464575e+08</td>\n",
       "    </tr>\n",
       "  </tbody>\n",
       "</table>\n",
       "</div>"
      ],
      "text/plain": [
       "       ResponseTime\n",
       "count  8.278480e+05\n",
       "mean   9.837171e+05\n",
       "std    6.908426e+06\n",
       "min    1.000000e+00\n",
       "25%    4.250000e+02\n",
       "50%    1.357000e+03\n",
       "75%    9.583000e+03\n",
       "max    2.464575e+08"
      ]
     },
     "execution_count": 47,
     "metadata": {},
     "output_type": "execute_result"
    }
   ],
   "source": [
    "new_df_python_cleaned.describe()"
   ]
  },
  {
   "cell_type": "code",
   "execution_count": 48,
   "metadata": {},
   "outputs": [
    {
     "data": {
      "text/html": [
       "<div>\n",
       "<style scoped>\n",
       "    .dataframe tbody tr th:only-of-type {\n",
       "        vertical-align: middle;\n",
       "    }\n",
       "\n",
       "    .dataframe tbody tr th {\n",
       "        vertical-align: top;\n",
       "    }\n",
       "\n",
       "    .dataframe thead th {\n",
       "        text-align: right;\n",
       "    }\n",
       "</style>\n",
       "<table border=\"1\" class=\"dataframe\">\n",
       "  <thead>\n",
       "    <tr style=\"text-align: right;\">\n",
       "      <th></th>\n",
       "      <th>ResponseTime</th>\n",
       "    </tr>\n",
       "  </thead>\n",
       "  <tbody>\n",
       "    <tr>\n",
       "      <th>count</th>\n",
       "      <td>1.176818e+06</td>\n",
       "    </tr>\n",
       "    <tr>\n",
       "      <th>mean</th>\n",
       "      <td>9.988755e+05</td>\n",
       "    </tr>\n",
       "    <tr>\n",
       "      <th>std</th>\n",
       "      <td>7.133064e+06</td>\n",
       "    </tr>\n",
       "    <tr>\n",
       "      <th>min</th>\n",
       "      <td>1.000000e+00</td>\n",
       "    </tr>\n",
       "    <tr>\n",
       "      <th>25%</th>\n",
       "      <td>3.960000e+02</td>\n",
       "    </tr>\n",
       "    <tr>\n",
       "      <th>50%</th>\n",
       "      <td>1.224000e+03</td>\n",
       "    </tr>\n",
       "    <tr>\n",
       "      <th>75%</th>\n",
       "      <td>9.615000e+03</td>\n",
       "    </tr>\n",
       "    <tr>\n",
       "      <th>max</th>\n",
       "      <td>2.985367e+08</td>\n",
       "    </tr>\n",
       "  </tbody>\n",
       "</table>\n",
       "</div>"
      ],
      "text/plain": [
       "       ResponseTime\n",
       "count  1.176818e+06\n",
       "mean   9.988755e+05\n",
       "std    7.133064e+06\n",
       "min    1.000000e+00\n",
       "25%    3.960000e+02\n",
       "50%    1.224000e+03\n",
       "75%    9.615000e+03\n",
       "max    2.985367e+08"
      ]
     },
     "execution_count": 48,
     "metadata": {},
     "output_type": "execute_result"
    }
   ],
   "source": [
    "new_df_java_cleaned.describe()"
   ]
  },
  {
   "cell_type": "markdown",
   "metadata": {},
   "source": [
    "**COMMENT** : \n",
    "From the boxplots of the two distributions, we are in a good position to talk about the distribution of the mean, median and standart deviation. We can see that, like in the previous homeword, the median would not describe the distributions accurately since they are hugely shifted to the right. This makes the median a better way to descrive the \"average\" behavior of the population since the median is robust to outliers.Since there are so many outliers the standart deviation is also huge. using the quartiles would be a better measure of how \"spread\" the data is. Furthermore, we decide to remove the strong outliers from the data since it was making the lecture of the histograms too difficult (An extreme outlier is $Q3 + 3*(Q3-Q1)$. "
   ]
  },
  {
   "cell_type": "markdown",
   "metadata": {},
   "source": [
    "### PART D.3 : \n",
    "We believe that the response time is lower for questions related to Python (compare to Java). Contradict or confirm this assumption by estimating the proper statistic with bootstrapping. Visualize the 95% confidence intervals with box plots and describe your findings :"
   ]
  },
  {
   "cell_type": "code",
   "execution_count": 49,
   "metadata": {},
   "outputs": [],
   "source": [
    "def bootstrapping(distribution, percentage, number_of_bootstrapping):\n",
    "    '''\n",
    "    Allows the random sampling with repacement of the distribution given as input and return a list of mean corresponding to each resampling experiment.\n",
    "    Inputs :\n",
    "        - distribution : List of integer corresponding to the response time.\n",
    "        - percentage : Float number corresponding to the percentage of the dataset you want to resample. It define indirectly the resample size.\n",
    "        - number_of_bootstrapping : Integer number corresponding to number of resampling we will do.\n",
    "    Output :\n",
    "        - mean_list : List of float number where each element correspond to the mean of one experience of resampling. \n",
    "    '''\n",
    "    mean_list=[]\n",
    "    for i in range (number_of_bootstrapping) :\n",
    "        # Create an array of random numbers allowing us to select random index\n",
    "        random_tab = random.sample(range(1,distribution.index.max()), int(distribution.shape[0]*percentage))\n",
    "        # Adding to a list the mean of the sample of the distribution\n",
    "        mean_list.append(distribution[distribution.index.isin(random_tab)].median())\n",
    "    return mean_list"
   ]
  },
  {
   "cell_type": "code",
   "execution_count": 50,
   "metadata": {},
   "outputs": [
    {
     "data": {
      "text/html": [
       "<div>\n",
       "<style scoped>\n",
       "    .dataframe tbody tr th:only-of-type {\n",
       "        vertical-align: middle;\n",
       "    }\n",
       "\n",
       "    .dataframe tbody tr th {\n",
       "        vertical-align: top;\n",
       "    }\n",
       "\n",
       "    .dataframe thead th {\n",
       "        text-align: right;\n",
       "    }\n",
       "</style>\n",
       "<table border=\"1\" class=\"dataframe\">\n",
       "  <thead>\n",
       "    <tr style=\"text-align: right;\">\n",
       "      <th></th>\n",
       "      <th>Median_python</th>\n",
       "      <th>Median_java</th>\n",
       "    </tr>\n",
       "  </thead>\n",
       "  <tbody>\n",
       "    <tr>\n",
       "      <th>count</th>\n",
       "      <td>500.000000</td>\n",
       "      <td>500.000000</td>\n",
       "    </tr>\n",
       "    <tr>\n",
       "      <th>mean</th>\n",
       "      <td>1346.921000</td>\n",
       "      <td>1217.746000</td>\n",
       "    </tr>\n",
       "    <tr>\n",
       "      <th>std</th>\n",
       "      <td>6.155082</td>\n",
       "      <td>4.805379</td>\n",
       "    </tr>\n",
       "    <tr>\n",
       "      <th>min</th>\n",
       "      <td>1329.000000</td>\n",
       "      <td>1204.000000</td>\n",
       "    </tr>\n",
       "    <tr>\n",
       "      <th>25%</th>\n",
       "      <td>1343.000000</td>\n",
       "      <td>1214.000000</td>\n",
       "    </tr>\n",
       "    <tr>\n",
       "      <th>50%</th>\n",
       "      <td>1347.000000</td>\n",
       "      <td>1218.000000</td>\n",
       "    </tr>\n",
       "    <tr>\n",
       "      <th>75%</th>\n",
       "      <td>1351.000000</td>\n",
       "      <td>1221.000000</td>\n",
       "    </tr>\n",
       "    <tr>\n",
       "      <th>max</th>\n",
       "      <td>1363.000000</td>\n",
       "      <td>1230.000000</td>\n",
       "    </tr>\n",
       "  </tbody>\n",
       "</table>\n",
       "</div>"
      ],
      "text/plain": [
       "       Median_python  Median_java\n",
       "count     500.000000   500.000000\n",
       "mean     1346.921000  1217.746000\n",
       "std         6.155082     4.805379\n",
       "min      1329.000000  1204.000000\n",
       "25%      1343.000000  1214.000000\n",
       "50%      1347.000000  1218.000000\n",
       "75%      1351.000000  1221.000000\n",
       "max      1363.000000  1230.000000"
      ]
     },
     "execution_count": 50,
     "metadata": {},
     "output_type": "execute_result"
    }
   ],
   "source": [
    "# We create a dataframe to save the output of the bootstrap process :\n",
    "median_list = pd.DataFrame(columns = ['Median_python','Median_java'])\n",
    "\n",
    "# We use our Bootstrap function\n",
    "median_list['Median_python'] = bootstrapping(new_df_python, 0.3, 500)\n",
    "median_list['Median_java'] = bootstrapping(new_df_java, 0.3, 500)\n",
    "median_list['Median_python'] = median_list['Median_python'].astype(float)\n",
    "median_list['Median_java'] = median_list['Median_java'].astype(float)\n",
    "\n",
    "# We display the caracteristic of the two Bootstrap distribution :\n",
    "median_list.describe(include='all')"
   ]
  },
  {
   "cell_type": "code",
   "execution_count": 51,
   "metadata": {},
   "outputs": [
    {
     "name": "stdout",
     "output_type": "stream",
     "text": [
      "Ttest_relResult(statistic=363.8547250343127, pvalue=0.0)\n"
     ]
    }
   ],
   "source": [
    "# We ran a t-test and find the p value to see if we contradict the null hypothesis\n",
    "import scipy.stats\n",
    "\n",
    "t_value = sp.stats.ttest_rel(median_list['Median_python'], median_list['Median_java'] )\n",
    "print(t_value)"
   ]
  },
  {
   "cell_type": "markdown",
   "metadata": {},
   "source": [
    "**COMMENT** : \n",
    "We decided to use the median for the bootstraping since we concluded from the question above that it is the most robust measure for the kind of distribution that we are looking at. \n",
    "To validate the hypothesis, we first compute the characteristics of each series of the bootstrap distribution. The interval of **confidence is 0.95**. The Scipy ttes_ind function returns a tuple made of t-statistic and the p-value. Hence, we can observe that the p_value of this two-sided test for the null hypothesis that the 2 independent samples have identical average (expected) values is **p_value=0.0**. The bootstrap is resampling each time **30 percent** of the all dataset and is repeated **500 times**. Thus, we can reject with ANY alpha the null hypothesis that the average of the reponse time for python and java question is the same. The belief that the response time is lower for questions related to Python (compare to Java) is true."
   ]
  },
  {
   "cell_type": "code",
   "execution_count": 52,
   "metadata": {},
   "outputs": [
    {
     "data": {
      "image/png": "[encoded data removed]",
      "text/plain": [
       "<Figure size 432x288 with 1 Axes>"
      ]
     },
     "metadata": {
      "needs_background": "light"
     },
     "output_type": "display_data"
    },
    {
     "data": {
      "image/png": "[encoded data removed]",
      "text/plain": [
       "<Figure size 432x288 with 1 Axes>"
      ]
     },
     "metadata": {
      "needs_background": "light"
     },
     "output_type": "display_data"
    }
   ],
   "source": [
    "list_java = median_list['Median_java']\n",
    "list_python = median_list['Median_python']\n",
    "\n",
    "plt.boxplot(list_java, whis=[5, 95])\n",
    "plt.title('Boxplot of Java Median bootstrap Distribution')\n",
    "plt.show()\n",
    "\n",
    "plt.boxplot(list_python, whis=[5, 95])\n",
    "plt.title('Boxplot of Python Median bootstrap Distribution')\n",
    "plt.show()"
   ]
  },
  {
   "cell_type": "markdown",
   "metadata": {},
   "source": [
    "### PART D.4 "
   ]
  },
  {
   "cell_type": "markdown",
   "metadata": {},
   "source": [
    "#### Task A: Take the tags used in more than 5000 questions "
   ]
  },
  {
   "cell_type": "code",
   "execution_count": 53,
   "metadata": {},
   "outputs": [],
   "source": [
    "more_than_5000  = genre_frequency.filter(lambda k : k[1] > 5000)\n",
    "more_than_5000 = more_than_5000.toDF()\n",
    "more_than_5000 = more_than_5000.toPandas()"
   ]
  },
  {
   "cell_type": "code",
   "execution_count": null,
   "metadata": {},
   "outputs": [],
   "source": [
    "# Declare list where we will store data\n",
    "mean_response_time, tag = [], []\n",
    "# Read the file\n",
    "file = spark.read.parquet( DATA_DIR + \"posts.parquet\")\n",
    "\n",
    "# For loop \n",
    "for i in (more_than_5000['_1'][251:500]):\n",
    "    # Find the question date\n",
    "    depart_time = file[file.Tags.contains(i)]\n",
    "    depart_time= depart_time.selectExpr(\"CreationDate as DepartureDate\",'PostTypeId as PostTypeId', 'Id as Id')\n",
    "    # Find the first answer date\n",
    "    first_answer_date = file[file.PostTypeId == 2].groupBy(\"ParentId\").agg(min_(\"CreationDate\").alias(\"FirstAnswerDate\"))\n",
    "    first_answer_date = first_answer_date.selectExpr(\"ParentId as Id\",'FirstAnswerDate as FirstAnswerDate')\n",
    "    # Join the two features\n",
    "    tmp = depart_time.join(first_answer_date, on = ['Id'])\n",
    "    # Create ResponseTime feature\n",
    "    list_ = tmp.withColumn('ResponseTime', (F.unix_timestamp('FirstAnswerDate', format=timeFmt) - F.unix_timestamp('DepartureDate', format=timeFmt)))\n",
    "    \n",
    "    # Store in the list the mean Response Time for each tag and we keep in tag list the corresponding tag names.\n",
    "    mean_response_time.append(list_.approxQuantile('ResponseTime', [0.5], 0.25))\n",
    "    tag.append(i)"
   ]
  },
  {
   "cell_type": "code",
   "execution_count": 115,
   "metadata": {
    "scrolled": true
   },
   "outputs": [],
   "source": [
    "df = pd.DataFrame(columns = ['Tags','ResponseTime'])\n",
    "df['Tags'] = tag\n",
    "df['ResponseTime'] = mean_response_time"
   ]
  },
  {
   "cell_type": "code",
   "execution_count": 129,
   "metadata": {
    "scrolled": false
   },
   "outputs": [
    {
     "name": "stdout",
     "output_type": "stream",
     "text": [
      "foreach\n"
     ]
    },
    {
     "data": {
      "image/png": "[encoded data removed]",
      "text/plain": [
       "<Figure size 432x288 with 1 Axes>"
      ]
     },
     "metadata": {
      "needs_background": "light"
     },
     "output_type": "display_data"
    },
    {
     "data": {
      "image/png": "[encoded data removed]",
      "text/plain": [
       "<Figure size 432x288 with 1 Axes>"
      ]
     },
     "metadata": {
      "needs_background": "light"
     },
     "output_type": "display_data"
    },
    {
     "name": "stdout",
     "output_type": "stream",
     "text": [
      "class\n"
     ]
    },
    {
     "data": {
      "image/png": "[encoded data removed]",
      "text/plain": [
       "<Figure size 432x288 with 1 Axes>"
      ]
     },
     "metadata": {
      "needs_background": "light"
     },
     "output_type": "display_data"
    },
    {
     "data": {
      "image/png": "[encoded data removed]",
      "text/plain": [
       "<Figure size 432x288 with 1 Axes>"
      ]
     },
     "metadata": {
      "needs_background": "light"
     },
     "output_type": "display_data"
    },
    {
     "name": "stdout",
     "output_type": "stream",
     "text": [
      "formatting\n"
     ]
    },
    {
     "data": {
      "image/png": "[encoded data removed]",
      "text/plain": [
       "<Figure size 432x288 with 1 Axes>"
      ]
     },
     "metadata": {
      "needs_background": "light"
     },
     "output_type": "display_data"
    },
    {
     "data": {
      "image/png": "[encoded data removed]",
      "text/plain": [
       "<Figure size 432x288 with 1 Axes>"
      ]
     },
     "metadata": {
      "needs_background": "light"
     },
     "output_type": "display_data"
    },
    {
     "name": "stdout",
     "output_type": "stream",
     "text": [
      "path\n"
     ]
    },
    {
     "data": {
      "image/png": "[encoded data removed]",
      "text/plain": [
       "<Figure size 432x288 with 1 Axes>"
      ]
     },
     "metadata": {
      "needs_background": "light"
     },
     "output_type": "display_data"
    },
    {
     "data": {
      "image/png": "[encoded data removed]",
      "text/plain": [
       "<Figure size 432x288 with 1 Axes>"
      ]
     },
     "metadata": {
      "needs_background": "light"
     },
     "output_type": "display_data"
    },
    {
     "name": "stdout",
     "output_type": "stream",
     "text": [
      "routes\n"
     ]
    },
    {
     "data": {
      "image/png": "[encoded data removed]",
      "text/plain": [
       "<Figure size 432x288 with 1 Axes>"
      ]
     },
     "metadata": {
      "needs_background": "light"
     },
     "output_type": "display_data"
    },
    {
     "data": {
      "image/png": "[encoded data removed]",
      "text/plain": [
       "<Figure size 432x288 with 1 Axes>"
      ]
     },
     "metadata": {
      "needs_background": "light"
     },
     "output_type": "display_data"
    },
    {
     "name": "stdout",
     "output_type": "stream",
     "text": [
      "cron\n"
     ]
    },
    {
     "data": {
      "image/png": "[encoded data removed]",
      "text/plain": [
       "<Figure size 432x288 with 1 Axes>"
      ]
     },
     "metadata": {
      "needs_background": "light"
     },
     "output_type": "display_data"
    },
    {
     "data": {
      "image/png": "[encoded data removed]",
      "text/plain": [
       "<Figure size 432x288 with 1 Axes>"
      ]
     },
     "metadata": {
      "needs_background": "light"
     },
     "output_type": "display_data"
    },
    {
     "name": "stdout",
     "output_type": "stream",
     "text": [
      "ruby-on-rails-3\n"
     ]
    },
    {
     "data": {
      "image/png": "[encoded data removed]",
      "text/plain": [
       "<Figure size 432x288 with 1 Axes>"
      ]
     },
     "metadata": {
      "needs_background": "light"
     },
     "output_type": "display_data"
    },
    {
     "data": {
      "image/png": "[encoded data removed]",
      "text/plain": [
       "<Figure size 432x288 with 1 Axes>"
      ]
     },
     "metadata": {
      "needs_background": "light"
     },
     "output_type": "display_data"
    },
    {
     "name": "stdout",
     "output_type": "stream",
     "text": [
      "stream\n"
     ]
    },
    {
     "data": {
      "image/png": "[encoded data removed]",
      "text/plain": [
       "<Figure size 432x288 with 1 Axes>"
      ]
     },
     "metadata": {
      "needs_background": "light"
     },
     "output_type": "display_data"
    },
    {
     "data": {
      "image/png": "[encoded data removed]",
      "text/plain": [
       "<Figure size 432x288 with 1 Axes>"
      ]
     },
     "metadata": {
      "needs_background": "light"
     },
     "output_type": "display_data"
    },
    {
     "name": "stdout",
     "output_type": "stream",
     "text": [
      "width\n"
     ]
    },
    {
     "data": {
      "image/png": "[encoded data removed]",
      "text/plain": [
       "<Figure size 432x288 with 1 Axes>"
      ]
     },
     "metadata": {
      "needs_background": "light"
     },
     "output_type": "display_data"
    },
    {
     "data": {
      "image/png": "[encoded data removed]",
      "text/plain": [
       "<Figure size 432x288 with 1 Axes>"
      ]
     },
     "metadata": {
      "needs_background": "light"
     },
     "output_type": "display_data"
    },
    {
     "name": "stdout",
     "output_type": "stream",
     "text": [
      "width\n"
     ]
    },
    {
     "data": {
      "image/png": "[encoded data removed]",
      "text/plain": [
       "<Figure size 432x288 with 1 Axes>"
      ]
     },
     "metadata": {
      "needs_background": "light"
     },
     "output_type": "display_data"
    },
    {
     "data": {
      "image/png": "[encoded data removed]",
      "text/plain": [
       "<Figure size 432x288 with 1 Axes>"
      ]
     },
     "metadata": {
      "needs_background": "light"
     },
     "output_type": "display_data"
    }
   ],
   "source": [
    "# We select the 10 fastest tag by sorting them and taking the smaller mean of ResponseTime\n",
    "fastest_tag = df.sort_values('ResponseTime')[:10]\n",
    "\n",
    "# We plot the 10 distribution\n",
    "for i in fastest_tag['Tags']:\n",
    "    # Find the question date\n",
    "    depart_time = file[file.Tags.contains(i)]\n",
    "    depart_time= depart_time.selectExpr(\"CreationDate as DepartureDate\",'PostTypeId as PostTypeId', 'Id as Id')\n",
    "    # Find the first answer date\n",
    "    first_answer_date = file[file.PostTypeId == 2].groupBy(\"ParentId\").agg(min_(\"CreationDate\").alias(\"FirstAnswerDate\"))\n",
    "    first_answer_date = first_answer_date.selectExpr(\"ParentId as Id\",'FirstAnswerDate as FirstAnswerDate')\n",
    "    # Join the two features\n",
    "    tmp = depart_time.join(first_answer_date, on = ['Id'])\n",
    "    # Create ResponseTime feature\n",
    "    tmp = tmp.withColumn('ResponseTime', (F.unix_timestamp('FirstAnswerDate', format=timeFmt) - F.unix_timestamp('DepartureDate', format=timeFmt)))\n",
    "    tmp = tmp.selectExpr(\"ResponseTime as ResponseTime\")\n",
    "    tmp = tmp.toPandas()\n",
    "    \n",
    "    ##Remove the outliers \n",
    "    Q1 = np.quantile(tmp.ResponseTime, 0.25)\n",
    "    Q3 = np.quantile(tmp.ResponseTime, 0.75)\n",
    "    tmp = tmp[tmp.ResponseTime < Q3 + 3*(Q3 - Q1)]\n",
    "    \n",
    "    # Plot\n",
    "    print(i)\n",
    "    tmp.hist('ResponseTime')\n",
    "    plt.title('Histogram of the tag ' + i)\n",
    "    plt.show()\n",
    "    tmp.boxplot(column='ResponseTime')\n",
    "    plt.title('Boxplot of the tag ' + i)\n",
    "\n",
    "    plt.show()"
   ]
  },
  {
   "cell_type": "markdown",
   "metadata": {},
   "source": [
    "**COMMENT**: \n",
    "\n",
    "We decide to remove the strong outliers from the data since it was making the lecture of the histograms too difficult (An extreme outlier is $Q3 + 3*(Q3-Q1)$. \n",
    "\n",
    "**IMPORTANT NOTE: We are showing here the results compute from the median but only for a subset of 342/1096 since we did not had the time to compute more experiment because of a mistake in the code seen too late. However, before we worked with the mean which was not an adapted statistic to measure the data since there a strong outliers. We should have computed the values for the median in the first which would have given better results. Nevertheless, the only problem is that we did not have the time to correct the plot since they took a massive amount of time to be produced  and we prefered to have uncomplete results instead of partial results... Furthermore, we should have removed the negative values.**"
   ]
  },
  {
   "cell_type": "markdown",
   "metadata": {},
   "source": [
    "### Task E: What's up with PySpark?\n",
    "The number of questions asked regarding a specific topic reflect the public’s interest on it. We are interested on the popularity of PySpark. Compute and plot the number of questions with the ```pyspark``` tag for 30-day time intervals. Do you notice any trend over time? Is there any correlation between time and number of questions?\n"
   ]
  },
  {
   "cell_type": "markdown",
   "metadata": {},
   "source": [
    "### STEP E.1 - Load Data"
   ]
  },
  {
   "cell_type": "code",
   "execution_count": 55,
   "metadata": {},
   "outputs": [
    {
     "name": "stdout",
     "output_type": "stream",
     "text": [
      "root\n",
      " |-- CreationDate: string (nullable = true)\n",
      " |-- Id: long (nullable = true)\n",
      " |-- ParentId: long (nullable = true)\n",
      " |-- PostTypeId: integer (nullable = true)\n",
      " |-- Score: integer (nullable = true)\n",
      " |-- Tags: string (nullable = true)\n",
      " |-- Title: string (nullable = true)\n",
      " |-- ViewCount: integer (nullable = true)\n",
      " |-- timestamp: timestamp (nullable = true)\n",
      "\n"
     ]
    }
   ],
   "source": [
    "posts_parquet = spark.read.parquet( DATA_DIR + \"posts.parquet\")\n",
    "posts_parquet.printSchema()"
   ]
  },
  {
   "cell_type": "markdown",
   "metadata": {},
   "source": [
    "### STEP E.2 - Clean Data"
   ]
  },
  {
   "cell_type": "code",
   "execution_count": 56,
   "metadata": {},
   "outputs": [
    {
     "name": "stdout",
     "output_type": "stream",
     "text": [
      "+--------------------+--------------------+--------------------+\n",
      "|        CreationDate|                Tags|           timestamp|\n",
      "+--------------------+--------------------+--------------------+\n",
      "|2017-08-17T16:40:...|<python><apache-s...|2017-08-17 09:40:...|\n",
      "|2017-08-17T18:15:...|<sql><apache-spar...|2017-08-17 11:15:...|\n",
      "|2017-08-17T20:36:...|<apache-spark><py...|2017-08-17 13:36:...|\n",
      "|2016-08-03T08:10:...|<pyspark><apache-...|2016-08-03 01:10:...|\n",
      "|2016-08-03T08:22:...|<pyspark><pyspark...|2016-08-03 01:22:...|\n",
      "|2016-08-03T12:06:...|<scala><apache-sp...|2016-08-03 05:06:...|\n",
      "|2016-08-03T12:19:...|<python><apache-s...|2016-08-03 05:19:...|\n",
      "|2016-08-03T16:34:...|<python><apache-s...|2016-08-03 09:34:...|\n",
      "|2016-08-03T18:48:...|<apache-spark><py...|2016-08-03 11:48:...|\n",
      "|2016-08-03T18:52:...|<python><apache-s...|2016-08-03 11:52:...|\n",
      "|2016-08-03T20:00:...|<pyspark><apache-...|2016-08-03 13:00:...|\n",
      "|2016-08-04T03:11:...|<python><apache-s...|2016-08-03 20:11:...|\n",
      "|2016-08-04T10:20:...|<python><apache-s...|2016-08-04 03:20:...|\n",
      "|2016-08-04T17:05:...|<apache-spark><py...|2016-08-04 10:05:...|\n",
      "|2016-08-04T20:50:...|<python><sql><apa...|2016-08-04 13:50:...|\n",
      "|2016-08-05T00:41:...|<apache-spark><py...|2016-08-04 17:41:...|\n",
      "|2016-08-05T05:17:...|<python><apache-s...|2016-08-04 22:17:...|\n",
      "|2016-08-05T10:27:...|<amazon-ec2><ipyt...|2016-08-05 03:27:...|\n",
      "|2016-08-05T14:01:...|<apache-spark><py...|2016-08-05 07:01:...|\n",
      "|2016-08-05T15:25:...|<apache-spark><am...|2016-08-05 08:25:...|\n",
      "+--------------------+--------------------+--------------------+\n",
      "only showing top 20 rows\n",
      "\n"
     ]
    }
   ],
   "source": [
    "# filter for questions (PostTypeId 1) AND pyspark tag\n",
    "posts_parquet_pyspark = posts_parquet[['CreationDate', 'Tags']]\n",
    "\n",
    "## implicitly filters for PostTypeId 1 since only questions can have Tags\n",
    "posts_parquet_pyspark = posts_parquet_pyspark[posts_parquet_pyspark.Tags.contains('pyspark')]\n",
    "\n",
    "## Cast CreationDate type as timestamp value\n",
    "from pyspark.sql.functions import unix_timestamp, from_unixtime, from_utc_timestamp\n",
    "posts_parquet_pyspark = posts_parquet_pyspark.withColumn('timestamp', from_utc_timestamp(posts_parquet_pyspark.CreationDate, \"PST\"))\n",
    "\n",
    "posts_parquet_pyspark.show() # preview data sample"
   ]
  },
  {
   "cell_type": "markdown",
   "metadata": {},
   "source": [
    "### STEP E.3: Compute the number of questions with the pyspark tag for 30-day time intervals\n",
    "In order to answer this question our group decided to take advantage of the slidding window function coded in the spark library. This made it possible to create several 30-day intervals. Similarly to task A, the data that we are dealing with look contains the following information: "
   ]
  },
  {
   "cell_type": "code",
   "execution_count": 57,
   "metadata": {},
   "outputs": [
    {
     "name": "stdout",
     "output_type": "stream",
     "text": [
      "root\n",
      " |-- CreationDate: string (nullable = true)\n",
      " |-- Tags: string (nullable = true)\n",
      " |-- timestamp: timestamp (nullable = true)\n",
      "\n"
     ]
    }
   ],
   "source": [
    "posts_parquet_pyspark.printSchema()"
   ]
  },
  {
   "cell_type": "code",
   "execution_count": 58,
   "metadata": {},
   "outputs": [],
   "source": [
    "from pyspark.sql.functions import window\n",
    "pyspark_30days = posts_parquet_pyspark.groupBy(window(\"timestamp\", \"30 days\")).count() ## use Spark library function window"
   ]
  },
  {
   "cell_type": "markdown",
   "metadata": {},
   "source": [
    "The window function enables us to get 30 days time intervals in each row of the panda dataframe. This data is stored like this: "
   ]
  },
  {
   "cell_type": "code",
   "execution_count": 59,
   "metadata": {},
   "outputs": [
    {
     "data": {
      "text/plain": [
       "[Row(window=Row(start=datetime.datetime(2016, 1, 30, 1, 0), end=datetime.datetime(2016, 2, 29, 1, 0)), count=173),\n",
       " Row(window=Row(start=datetime.datetime(2014, 4, 10, 2, 0), end=datetime.datetime(2014, 5, 10, 2, 0)), count=1),\n",
       " Row(window=Row(start=datetime.datetime(2016, 11, 25, 1, 0), end=datetime.datetime(2016, 12, 25, 1, 0)), count=253)]"
      ]
     },
     "execution_count": 59,
     "metadata": {},
     "output_type": "execute_result"
    }
   ],
   "source": [
    "pyspark_30days.head(3)"
   ]
  },
  {
   "cell_type": "markdown",
   "metadata": {},
   "source": [
    "### STEP E.4 : Plot the number of questions with the pyspark tag for 30-day time intervals"
   ]
  },
  {
   "cell_type": "code",
   "execution_count": 60,
   "metadata": {},
   "outputs": [
    {
     "data": {
      "image/png": "[encoded data removed]",
      "text/plain": [
       "<Figure size 432x288 with 1 Axes>"
      ]
     },
     "metadata": {
      "needs_background": "light"
     },
     "output_type": "display_data"
    }
   ],
   "source": [
    "## this requires pandas\n",
    "## move to a pandas dataframe\n",
    "pyspark_df = pyspark_30days[['window.start', 'window.end', 'count']].toPandas()\n",
    "\n",
    "## then visualize with pyplot\n",
    "# graph by window start time\n",
    "date = pyspark_df['start']\n",
    "count = pyspark_df['count']\n",
    "\n",
    "# mark last data point as outlier in red\n",
    "outlier = pyspark_df.loc[pyspark_df['start'] == date.max()]\n",
    "outlier_x = outlier[\"start\"]\n",
    "outlier_y = outlier[\"count\"]\n",
    "\n",
    "# plot data\n",
    "plt.plot(date, count, \"*\")\n",
    "plt.plot(outlier_x, outlier_y, \"o\", mfc = 'r')\n",
    "\n",
    "# label graph\n",
    "plt.title(\"Number of Pyspark Tag Questions\")\n",
    "plt.xlabel('Question Date (30-day Time Intervals)')\n",
    "plt.ylabel('Question Count')\n",
    "plt.xticks(rotation='vertical')\n",
    "plt.show()"
   ]
  },
  {
   "cell_type": "markdown",
   "metadata": {},
   "source": [
    "#### Do you notice any trend over time? Is there any correlation between time and number of questions?\n",
    "ANSWER: There is an increasing trend in the number of Stack Overflow questions over time that include the 'pyspark' tag. The number of 'pyspark' questions were close to 0 before 2015, before growing linearly from 2015 to mid-2018. Thus, for the majority of the time represented by our dataset, it appears that users on Stack Overflow have steadily gained interest in learning more about 'pyspark'.\n",
    "\n",
    "Although the last datapoint in our plot (marked by the red circle in the graph above) represents a drop in the number of 'pyspark' questions, this datapoint is an outlier that can be explained by the fact that the counting of questions is grouped in 30-day intervals, and the dataset is incomplete for some of the remaining days of the last 30-day interval. Thus the count of the last datapoint is deceptively low and can be ignored when commenting on data trends."
   ]
  }
 ],
 "metadata": {
  "kernelspec": {
   "display_name": "Python [default]",
   "language": "python",
   "name": "python3"
  },
  "language_info": {
   "codemirror_mode": {
    "name": "ipython",
    "version": 3
   },
   "file_extension": ".py",
   "mimetype": "text/x-python",
   "name": "python",
   "nbconvert_exporter": "python",
   "pygments_lexer": "ipython3",
   "version": "3.6.6"
  }
 },
 "nbformat": 4,
 "nbformat_minor": 2
}
